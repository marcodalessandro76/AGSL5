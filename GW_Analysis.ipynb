{
 "cells": [
  {
   "cell_type": "code",
   "execution_count": 1,
   "metadata": {},
   "outputs": [],
   "source": [
    "# useful to autoreload the module without restarting the kernel\n",
    "%load_ext autoreload\n",
    "%autoreload 2"
   ]
  },
  {
   "cell_type": "code",
   "execution_count": 2,
   "metadata": {},
   "outputs": [],
   "source": [
    "from mppi import InputFiles as I, Calculators as C, Datasets as D, Parsers as P, Utilities as U\n",
    "from mppi.Calculators import Tools\n",
    "from mppi.Datasets import PostProcessing as PP\n",
    "import matplotlib.pyplot as plt\n",
    "import numpy as np\n",
    "import os"
   ]
  },
  {
   "cell_type": "code",
   "execution_count": 3,
   "metadata": {
    "tags": []
   },
   "outputs": [
    {
     "name": "stdout",
     "output_type": "stream",
     "text": [
      "Initialize a Yambo calculator with scheduler slurm\n"
     ]
    },
    {
     "data": {
      "text/plain": [
       "{'scheduler': 'slurm',\n",
       " 'nodes': 1,\n",
       " 'ntasks_per_node': 16,\n",
       " 'cpus_per_task': 2,\n",
       " 'omp_num_threads': 2,\n",
       " 'gpus_per_node': None,\n",
       " 'memory': '125000',\n",
       " 'time': None,\n",
       " 'partition': 'slownodes',\n",
       " 'account': None,\n",
       " 'qos': None,\n",
       " 'map_by': None,\n",
       " 'pe': 1,\n",
       " 'rank_by': None,\n",
       " 'pre_processing': '/home/dalessandro/module_script/yambo_module',\n",
       " 'executable': 'yambo',\n",
       " 'skip': True,\n",
       " 'clean_restart': True,\n",
       " 'dry_run': False,\n",
       " 'wait_end_run': True,\n",
       " 'activate_BeeOND': True,\n",
       " 'verbose': True,\n",
       " 'fatlog': False}"
      ]
     },
     "execution_count": 3,
     "metadata": {},
     "output_type": "execute_result"
    }
   ],
   "source": [
    "# RunRules for ismhpc\n",
    "# The product of ntasks_per_node*cpus_per_task is equal to 32. \n",
    "# Many mpi are needed for better performances\n",
    "nodes = 1\n",
    "ntasks_per_node = 16 #16\n",
    "cpus_per_task = 2 #2\n",
    "omp_num_threads = 2 #2\n",
    "module = '/home/dalessandro/module_script/yambo_module'\n",
    "\n",
    "ntasks = nodes*ntasks_per_node\n",
    "\n",
    "rr = C.RunRules(scheduler='slurm',partition='slownodes', #'all12h',\n",
    "                memory='125000',\n",
    "                nodes=nodes,ntasks_per_node=ntasks_per_node,\n",
    "                cpus_per_task=cpus_per_task,\n",
    "                omp_num_threads=omp_num_threads,pre_processing=module)\n",
    "code = C.YamboCalculator(rr,activate_BeeOND=True) #,reformat=False,clean_restart=False,skip=False,fatlog=True)\n",
    "code.global_options()"
   ]
  },
  {
   "cell_type": "code",
   "execution_count": null,
   "metadata": {
    "tags": []
   },
   "outputs": [],
   "source": [
    "# RunRules for m100\n",
    "nodes = 16 # 16\n",
    "ntasks_per_node = 4\n",
    "cpus_per_task=32\n",
    "omp_num_threads=8\n",
    "gpus_per_node=4\n",
    "pe=8\n",
    "\n",
    "ntasks = nodes*ntasks_per_node\n",
    "\n",
    "rr = C.RunRules(scheduler='slurm',partition='m100_usr_prod',\n",
    "                account='IscrC_PrExIn',\n",
    "                memory='240GB',time='23:59:00',\n",
    "                nodes=nodes,ntasks_per_node=ntasks_per_node,\n",
    "                cpus_per_task=cpus_per_task,omp_num_threads=omp_num_threads,\n",
    "                gpus_per_node=gpus_per_node,pe=pe,\n",
    "                map_by='socket',rank_by='core')\n",
    "code = C.YamboCalculator(rr)\n",
    "code.global_options()"
   ]
  },
  {
   "cell_type": "markdown",
   "metadata": {
    "tags": []
   },
   "source": [
    "# GW convergence analysis for AGSL5"
   ]
  },
  {
   "cell_type": "markdown",
   "metadata": {},
   "source": [
    "We perform a convergence study for the GW runlevel"
   ]
  },
  {
   "cell_type": "markdown",
   "metadata": {},
   "source": [
    "## HF Analysis"
   ]
  },
  {
   "cell_type": "markdown",
   "metadata": {},
   "source": [
    "We do not repeat the convergence tests on the rim and Coulomb cutoff and we directly set\n",
    "the values of the converged parameters as\n",
    "\n",
    "* RandGVec = 100\n",
    "* RandQPpts = 5000000"
   ]
  },
  {
   "cell_type": "markdown",
   "metadata": {
    "tags": []
   },
   "source": [
    "### HF convergence analysis for the cutoff in the exchange term"
   ]
  },
  {
   "cell_type": "markdown",
   "metadata": {},
   "source": [
    "We study the convergence of the HF calculations in terms of the cutoff in the exchange term.\n",
    "\n",
    "This analysis is performed with a 10x20x1 k-points sampling using the converged results for RIM and Coulomb cutoff.\n",
    "\n",
    "__Note that we apply the cutoff on the EXXRLvcs variable while the VXCRLvcs is left to its DFT value__\n",
    "\n",
    "__Is this the best choice?__"
   ]
  },
  {
   "cell_type": "code",
   "execution_count": 4,
   "metadata": {},
   "outputs": [
    {
     "name": "stdout",
     "output_type": "stream",
     "text": [
      "SAVE folder MB_analysis/kpoints_10x20-nbnds_35/SAVE already present. No operations performed.\n"
     ]
    }
   ],
   "source": [
    "input_dir = 'DFT_analysis/kpoints_10x20-nbnds_35.save'\n",
    "run_dir = 'MB_analysis/kpoints_10x20-nbnds_35'\n",
    "\n",
    "Tools.init_yambo_dir(yambo_dir=run_dir,input_dir=input_dir)"
   ]
  },
  {
   "cell_type": "markdown",
   "metadata": {},
   "source": [
    "We the define the input variables commmon to all the runs"
   ]
  },
  {
   "cell_type": "code",
   "execution_count": 6,
   "metadata": {},
   "outputs": [],
   "source": [
    "start_band,stop_band = 25,26 # bands range for the computation of the HF corrections\n",
    "Gamma_index = 1\n",
    "RandGvec = 100\n",
    "Randqpts = 5e6\n",
    "\n",
    "EXXRLVcs_units = 'Ha'\n",
    "\n",
    "inp = I.YamboInput(args='yambo -r -x -V all',folder=run_dir)\n",
    "inp.set_scalar_variables(CUTGeo='slab z')\n",
    "inp.set_bandRange(start_band,stop_band)\n",
    "inp.set_array_variables(RandQpts=Randqpts)\n",
    "inp.set_array_variables(units='RL',RandGvec=RandGvec)\n",
    "#inp"
   ]
  },
  {
   "cell_type": "markdown",
   "metadata": {},
   "source": [
    "We perform a convergence run on the EXXRLvcs parameter"
   ]
  },
  {
   "cell_type": "code",
   "execution_count": 9,
   "metadata": {},
   "outputs": [
    {
     "name": "stdout",
     "output_type": "stream",
     "text": [
      "Initialize a Dataset with 2 parallel tasks\n"
     ]
    }
   ],
   "source": [
    "study = D.Dataset(run_dir=run_dir,num_tasks=2,verbose=True)\n",
    "study.set_postprocessing_function(PP.yambo_parse_data)\n",
    "\n",
    "EXXRLvcs = [10.,20.,30.,40.,50.] # Ha\n",
    "\n",
    "# append runs for the Gamma point\n",
    "for exxrlvcs in EXXRLvcs:\n",
    "    idd = 'hf-G-exxrlvcs_%s'%exxrlvcs\n",
    "    inp.set_kRange(Gamma_index,Gamma_index)\n",
    "    inp.set_array_variables(units=EXXRLVcs_units,EXXRLvcs=exxrlvcs)\n",
    "    study.append_run(id=idd,input=inp,runner=code,jobname =idd)"
   ]
  },
  {
   "cell_type": "code",
   "execution_count": 10,
   "metadata": {},
   "outputs": [],
   "source": [
    "#study.runs[2]"
   ]
  },
  {
   "cell_type": "code",
   "execution_count": 16,
   "metadata": {},
   "outputs": [
    {
     "name": "stdout",
     "output_type": "stream",
     "text": [
      "Run the selection [0, 1, 2, 3, 4] with the parallel task_groups [[0, 1], [2, 3], [4]] \n",
      "\n",
      "Run the task [0, 1] \n",
      "Skip the run of hf-G-exxrlvcs_10.0\n",
      "Skip the run of hf-G-exxrlvcs_20.0\n",
      "Task [0, 1] ended \n",
      " \n",
      "Run the task [2, 3] \n",
      "Skip the run of hf-G-exxrlvcs_30.0Skip the run of\n",
      " hf-G-exxrlvcs_40.0\n",
      "Task [2, 3] ended \n",
      " \n",
      "Run the task [4] \n",
      "Skip the run of hf-G-exxrlvcs_50.0\n",
      "Task [4] ended \n",
      " \n"
     ]
    }
   ],
   "source": [
    "results = study.run()"
   ]
  },
  {
   "cell_type": "markdown",
   "metadata": {},
   "source": [
    "We plot the values of the gap at the $\\Gamma$ point"
   ]
  },
  {
   "cell_type": "code",
   "execution_count": 17,
   "metadata": {},
   "outputs": [
    {
     "data": {
      "text/plain": [
       "[2.204822, 2.203676, 2.203482, 2.2035, 2.203482]"
      ]
     },
     "execution_count": 17,
     "metadata": {},
     "output_type": "execute_result"
    }
   ],
   "source": [
    "gap_G = [results[r].data.get_gap(k_full=Gamma_index,band_full=start_band,verbose=False) for r in results]\n",
    "gap_G"
   ]
  },
  {
   "cell_type": "code",
   "execution_count": 18,
   "metadata": {},
   "outputs": [
    {
     "data": {
      "text/plain": [
       "Text(0.5, 0, 'EXXRLvcs (Ha)')"
      ]
     },
     "execution_count": 18,
     "metadata": {},
     "output_type": "execute_result"
    },
    {
     "data": {
      "image/png": "[encoded data removed]",
      "text/plain": [
       "<Figure size 720x432 with 1 Axes>"
      ]
     },
     "metadata": {
      "needs_background": "light"
     },
     "output_type": "display_data"
    }
   ],
   "source": [
    "fig, axes = plt.subplots(figsize=(10, 6))\n",
    "axes.plot(EXXRLvcs,gap_G)\n",
    "axes.scatter(EXXRLvcs,gap_G)\n",
    "axes.set_title('Gap at Gamma',size=14)\n",
    "axes.set_xlabel('EXXRLvcs (Ha)',size=14)"
   ]
  },
  {
   "cell_type": "markdown",
   "metadata": {},
   "source": [
    "On the basis of this analysis we choose the converged value of the cutoff for exchange as\n",
    "\n",
    "EXXRLvcs = 40 Ha\n",
    "\n",
    "which guarantees the convergence of the HF gap at $\\Gamma$ at the level of 1 meV. We ahve also checked that the same\n",
    "precision is valid for the valence and conduction bands, not only for the gap."
   ]
  },
  {
   "cell_type": "markdown",
   "metadata": {
    "tags": []
   },
   "source": [
    "## HF Analysis in function of the k-points sampling"
   ]
  },
  {
   "cell_type": "markdown",
   "metadata": {},
   "source": [
    "We test the convergence of the HF gap at $\\Gamma$ in function of the dimension of the $k$-points sampling.\n",
    "\n",
    "The converged parameters for the RIM and Coulomb cutoff and for the cutoff on the exchange derived in the previous analysis will be used."
   ]
  },
  {
   "cell_type": "code",
   "execution_count": 19,
   "metadata": {},
   "outputs": [],
   "source": [
    "start_band,stop_band = 25,26 # bands range for the computation of the HF corrections\n",
    "Gamma_index = 1\n",
    "RandGvec = 100\n",
    "RandQpts = 5e6\n",
    "\n",
    "EXXRLvcs = 40. # Ha\n",
    "EXXRLVcs_units = 'Ha'"
   ]
  },
  {
   "cell_type": "code",
   "execution_count": 20,
   "metadata": {},
   "outputs": [],
   "source": [
    "kvalues = [10,15,20,25,30]"
   ]
  },
  {
   "cell_type": "code",
   "execution_count": 21,
   "metadata": {},
   "outputs": [
    {
     "name": "stdout",
     "output_type": "stream",
     "text": [
      "Initialize a Dataset with 2 parallel tasks\n",
      "SAVE folder MB_analysis/kpoints_10x20-nbnds_35/SAVE already present. No operations performed.\n",
      "SAVE folder MB_analysis/kpoints_15x30-nbnds_35/SAVE already present. No operations performed.\n",
      "SAVE folder MB_analysis/kpoints_20x40-nbnds_35/SAVE already present. No operations performed.\n",
      "SAVE folder MB_analysis/kpoints_25x50-nbnds_35/SAVE already present. No operations performed.\n",
      "SAVE folder MB_analysis/kpoints_30x60-nbnds_35/SAVE already present. No operations performed.\n"
     ]
    }
   ],
   "source": [
    "study = D.Dataset(num_tasks=2,verbose=True)\n",
    "study.set_postprocessing_function(PP.yambo_parse_data)\n",
    "\n",
    "for k in kvalues:\n",
    "    input_dir = 'DFT_analysis/kpoints_%sx%s-nbnds_35.save'%(k,2*k)\n",
    "    run_dir = 'MB_analysis/kpoints_%sx%s-nbnds_35'%(k,2*k)\n",
    "    Tools.init_yambo_dir(yambo_dir=run_dir,input_dir=input_dir)\n",
    "    \n",
    "    inp = I.YamboInput(args='yambo -r -x -V all',folder=run_dir)\n",
    "    inp.set_array_variables(units=EXXRLVcs_units,EXXRLvcs=EXXRLvcs)\n",
    "    inp.set_bandRange(start_band,stop_band)\n",
    "    inp.set_scalar_variables(CUTGeo='slab z')\n",
    "    inp.set_array_variables(RandQpts=RandQpts)\n",
    "    inp.set_array_variables(units='RL',RandGvec=RandGvec)\n",
    "    inp.set_scalar_variables(SE_ROLEs='q.qp.b',SE_CPU='1.1.16') # for 1 nodes on ismhpc (with 16 mpi and 2 omp per node)\n",
    "    \n",
    "    # append run at G\n",
    "    idd = 'hf-G-kpoints_%sx%s'%(k,2*k)\n",
    "    inp.set_kRange(Gamma_index,Gamma_index)\n",
    "    study.append_run(id=idd,input=inp,runner=code,run_dir=run_dir,jobname=idd)"
   ]
  },
  {
   "cell_type": "code",
   "execution_count": 23,
   "metadata": {},
   "outputs": [],
   "source": [
    "#study.ids"
   ]
  },
  {
   "cell_type": "code",
   "execution_count": 24,
   "metadata": {},
   "outputs": [],
   "source": [
    "#study.runs[3]"
   ]
  },
  {
   "cell_type": "code",
   "execution_count": 25,
   "metadata": {},
   "outputs": [
    {
     "name": "stdout",
     "output_type": "stream",
     "text": [
      "Run the selection [0, 1, 2, 3, 4] with the parallel task_groups [[0, 1], [2, 3], [4]] \n",
      "\n",
      "Run the task [0, 1] \n",
      "Skip the run of Skip the run ofhf-G-kpoints_15x30 \n",
      "hf-G-kpoints_10x20\n",
      "Task [0, 1] ended \n",
      " \n",
      "Run the task [2, 3] \n",
      "Skip the run of hf-G-kpoints_20x40\n",
      "Skip the run of hf-G-kpoints_25x50\n",
      "Task [2, 3] ended \n",
      " \n",
      "Run the task [4] \n",
      "Skip the run of hf-G-kpoints_30x60\n",
      "Task [4] ended \n",
      " \n"
     ]
    }
   ],
   "source": [
    "results = study.run()"
   ]
  },
  {
   "cell_type": "code",
   "execution_count": 26,
   "metadata": {},
   "outputs": [
    {
     "data": {
      "text/plain": [
       "[2.2034830000000003,\n",
       " 2.136705,\n",
       " 2.1199030000000003,\n",
       " 2.115724,\n",
       " 2.1150349999999998]"
      ]
     },
     "execution_count": 26,
     "metadata": {},
     "output_type": "execute_result"
    }
   ],
   "source": [
    "gap_G = [results[ind].data.get_gap(k_full=Gamma_index,band_full=start_band,verbose=False) for ind in results]\n",
    "gap_G"
   ]
  },
  {
   "cell_type": "code",
   "execution_count": 35,
   "metadata": {},
   "outputs": [
    {
     "data": {
      "text/plain": [
       "<matplotlib.patches.Polygon at 0x7fa6ef9dc518>"
      ]
     },
     "execution_count": 35,
     "metadata": {},
     "output_type": "execute_result"
    },
    {
     "data": {
      "image/png": "[encoded data removed]",
      "text/plain": [
       "<Figure size 864x360 with 1 Axes>"
      ]
     },
     "metadata": {
      "needs_background": "light"
     },
     "output_type": "display_data"
    }
   ],
   "source": [
    "fig, axes = plt.subplots(figsize=(12, 5))\n",
    "axes.plot(kvalues,gap_G)\n",
    "axes.scatter(kvalues,gap_G)\n",
    "axes.set_title('Gap at Gamma',size=14)\n",
    "axes.set_xlabel('k-sampling',size=14)\n",
    "#axes.hlines(gap_G[-1],10.,30,linestyles='-',color='gray',linewidth=1)\n",
    "#axes.hlines(gap_G[-1]+0.005,10.,30,linestyles='-',color='gray',linewidth=1)\n",
    "axes.axhspan(gap_G[-1], gap_G[-1]+0.005, xmin = 0.2,facecolor='red', alpha=0.5)"
   ]
  },
  {
   "cell_type": "markdown",
   "metadata": {},
   "source": [
    "With the 20x40x1 sampling the HF gap at $\\Gamma$ is converged at the level of 5 meV."
   ]
  },
  {
   "cell_type": "markdown",
   "metadata": {
    "tags": []
   },
   "source": [
    "## Plasmon pole analysis"
   ]
  },
  {
   "cell_type": "markdown",
   "metadata": {},
   "source": [
    "We study the convergence of the gap at $\\Gamma$ using the plasmon pole run level."
   ]
  },
  {
   "cell_type": "code",
   "execution_count": 3,
   "metadata": {},
   "outputs": [
    {
     "name": "stdout",
     "output_type": "stream",
     "text": [
      "Initialize a Yambo calculator with scheduler slurm\n"
     ]
    }
   ],
   "source": [
    "# RunRules for ismhpc\n",
    "# The product of ntasks_per_node*cpus_per_task is equal to 32. \n",
    "# Many mpi are needed for better performances\n",
    "nodes = 2\n",
    "ntasks_per_node = 32 #16\n",
    "cpus_per_task = 1 #2\n",
    "omp_num_threads = 1 #2\n",
    "module = '/home/dalessandro/module_script/yambo_module'\n",
    "\n",
    "ntasks = nodes*ntasks_per_node\n",
    "\n",
    "rr = C.RunRules(scheduler='slurm',partition='slownodes',\n",
    "                memory='125000',\n",
    "                nodes=nodes,ntasks_per_node=ntasks_per_node,\n",
    "                cpus_per_task=cpus_per_task,\n",
    "                omp_num_threads=omp_num_threads,pre_processing=module)\n",
    "code = C.YamboCalculator(rr,activate_BeeOND=True)\n",
    "#code.global_options()"
   ]
  },
  {
   "cell_type": "markdown",
   "metadata": {
    "tags": []
   },
   "source": [
    "### Convergence analysis of the screening"
   ]
  },
  {
   "cell_type": "markdown",
   "metadata": {},
   "source": [
    "We use the 10x20x1 k-points sampling (for computational reasons on the ism cluster) and perform a convergence analysis in the BndsRnXp and GbndRnge parameters needed to compute the screening function.\n",
    "\n",
    "We perform this analysis using the RIM_W with RandGvecW=10."
   ]
  },
  {
   "cell_type": "code",
   "execution_count": 4,
   "metadata": {},
   "outputs": [
    {
     "name": "stdout",
     "output_type": "stream",
     "text": [
      "SAVE folder MB_analysis/kpoints_10x20-nbnds_500/SAVE already present. No operations performed.\n"
     ]
    }
   ],
   "source": [
    "input_dir = 'DFT_analysis/kpoints_10x20-nbnds_500.save'\n",
    "run_dir = 'MB_analysis/kpoints_10x20-nbnds_500'\n",
    "Tools.init_yambo_dir(yambo_dir=run_dir,input_dir=input_dir)"
   ]
  },
  {
   "cell_type": "markdown",
   "metadata": {},
   "source": [
    "We the define the input variables common to all the runs"
   ]
  },
  {
   "cell_type": "code",
   "execution_count": 5,
   "metadata": {},
   "outputs": [
    {
     "name": "stdout",
     "output_type": "stream",
     "text": [
      "32 2\n"
     ]
    }
   ],
   "source": [
    "ntasks_c = 32 #16\n",
    "ntasks_v = int(ntasks/ntasks_c)\n",
    "print(ntasks_c,ntasks_v)\n",
    "\n",
    "start_band,stop_band = 25,26\n",
    "Gamma_index = 1\n",
    "RandGvec = 100\n",
    "RandGvecW = 10\n",
    "Randqpts = 5e6\n",
    "\n",
    "EXXRLVcs_units = 'Ha'\n",
    "EXXRLvcs = 40. # Ha\n",
    "#FFTGvecs = 40. # Ha \n",
    "\n",
    "inp = I.YamboInput(args='yambo -r -rw -k hartee -dyson n -gw0 p -V all',folder=run_dir)\n",
    "inp.set_extendOut()\n",
    "inp.set_array_variables(units=EXXRLVcs_units,EXXRLvcs=EXXRLvcs) #,FFTGvecs=FFTGvecs \n",
    "inp.set_bandRange(start_band,stop_band)\n",
    "inp.set_scalar_variables(CUTGeo='slab z')\n",
    "inp.set_array_variables(RandQpts=Randqpts)\n",
    "inp.set_array_variables(units='RL',RandGvec=RandGvec,RandGvecW=RandGvecW)\n",
    "inp.set_scalar_variables(SE_ROLEs='q.qp.b',SE_CPU='2.2.16') # for 2 nodes on ismhpc (with 32 mpi and 1 omp per node)\n",
    "inp.set_scalar_variables(X_and_IO_ROLEs='q.g.k.c.v',X_and_IO_CPU='1.1.1.%s.%s'%(ntasks_c,ntasks_v))\n",
    "inp.set_scalar_variables(DIP_ROLEs='k.c.v',DIP_CPU='1.%s.%s'%(ntasks_c,ntasks_v))\n",
    "#inp"
   ]
  },
  {
   "cell_type": "markdown",
   "metadata": {},
   "source": [
    "First we run over NGsBlkXp and we set the number of bands in the response function to the 300 for a balance between computational time and a proper\n",
    "check of the convergence of the G size of the response (since these variables are correlated).\n",
    "\n",
    "The variable LongDrXp is set to the inplane value [1,1,0] "
   ]
  },
  {
   "cell_type": "code",
   "execution_count": 6,
   "metadata": {},
   "outputs": [
    {
     "name": "stdout",
     "output_type": "stream",
     "text": [
      "Initialize a Dataset with 1 parallel tasks\n"
     ]
    }
   ],
   "source": [
    "NGsBlkXp = [4.0,6.0,8.0] #[4.0,6.0,8.0,10.] # Ha G size of the response function\n",
    "NGsBlkXp_units = 'Ha'\n",
    "BndsRnXp  = [1,300] # Bands in the response function\n",
    "GbndRnge = [1,300]  # Bands in the Sigma_c\n",
    "\n",
    "inp.set_array_variables(BndsRnXp=BndsRnXp,GbndRnge=GbndRnge)\n",
    "inp.set_array_variables(LongDrXp=[1.,1.,0.])\n",
    "\n",
    "study = D.Dataset(num_tasks=1,verbose=True)\n",
    "study.set_postprocessing_function(PP.yambo_parse_data)\n",
    "\n",
    "for ngsblkxp in NGsBlkXp:\n",
    "    inp.set_array_variables(units=NGsBlkXp_units,NGsBlkXp=ngsblkxp)\n",
    "    # append run at G\n",
    "    idd = 'pp-G-ngsblkxp_%s-bndsrnxp_%s-gbndrnge_%s'%(ngsblkxp,BndsRnXp[1],GbndRnge[1])\n",
    "    inp.set_kRange(Gamma_index,Gamma_index)\n",
    "    study.append_run(id=idd,input=inp,runner=code,run_dir=run_dir,\n",
    "            jobname=[idd,'ndbs','ndb_pp-ngsblkxp_%s-bndsrnxp_%s'%(ngsblkxp,BndsRnXp[1])],reformat=False)"
   ]
  },
  {
   "cell_type": "code",
   "execution_count": 7,
   "metadata": {},
   "outputs": [],
   "source": [
    "#study.runs[2]"
   ]
  },
  {
   "cell_type": "code",
   "execution_count": 8,
   "metadata": {},
   "outputs": [
    {
     "name": "stdout",
     "output_type": "stream",
     "text": [
      "Run the selection [0, 1, 2] with the parallel task_groups [[0], [1], [2]] \n",
      "\n",
      "Run the task [0] \n",
      "Skip the run of pp-G-ngsblkxp_4.0-bndsrnxp_300-gbndrnge_300\n",
      "Task [0] ended \n",
      " \n",
      "Run the task [1] \n",
      "Skip the run of pp-G-ngsblkxp_6.0-bndsrnxp_300-gbndrnge_300\n",
      "Task [1] ended \n",
      " \n",
      "Run the task [2] \n",
      "Skip the run of pp-G-ngsblkxp_8.0-bndsrnxp_300-gbndrnge_300\n",
      "Task [2] ended \n",
      " \n"
     ]
    }
   ],
   "source": [
    "results = study.run()"
   ]
  },
  {
   "cell_type": "code",
   "execution_count": 9,
   "metadata": {},
   "outputs": [
    {
     "data": {
      "text/plain": [
       "[0.9217709999999999, 0.9299519999999999, 0.931984]"
      ]
     },
     "execution_count": 9,
     "metadata": {},
     "output_type": "execute_result"
    }
   ],
   "source": [
    "gap_G = [results[ind].data.get_gap(k_full=Gamma_index,band_full=start_band,verbose=False) for ind in results]\n",
    "gap_G"
   ]
  },
  {
   "cell_type": "code",
   "execution_count": 10,
   "metadata": {},
   "outputs": [
    {
     "data": {
      "text/plain": [
       "Text(0.5, 0, 'NGsBlkXp (Ha)')"
      ]
     },
     "execution_count": 10,
     "metadata": {},
     "output_type": "execute_result"
    },
    {
     "data": {
      "image/png": "[encoded data removed]",
      "text/plain": [
       "<Figure size 864x360 with 1 Axes>"
      ]
     },
     "metadata": {
      "needs_background": "light"
     },
     "output_type": "display_data"
    }
   ],
   "source": [
    "fig, axes = plt.subplots(figsize=(12, 5))\n",
    "axes.plot(NGsBlkXp,gap_G)\n",
    "axes.scatter(NGsBlkXp,gap_G)\n",
    "axes.set_title('Gap at Gamma',size=14)\n",
    "axes.set_xlabel('NGsBlkXp (Ha)',size=14)"
   ]
  },
  {
   "cell_type": "markdown",
   "metadata": {},
   "source": [
    "We observe that the choice NGsBlkXp = 8 Ha could provide convergence of the screening at the level of few meV,\n",
    "also in view of a possible hidden slower convergence rate due to the correlation between this value and the number of bands.\n",
    "\n",
    "In case the computational local should be to heavy it is possible to reduce this parameter to NGsBlkXp = r Ha. Indeed it worth nothing that \n",
    "for this system the direct gap is of the order of the hundreds of eV, so a computational convergence at the level of some tenth of eV\n",
    "should be acceptable."
   ]
  },
  {
   "cell_type": "code",
   "execution_count": null,
   "metadata": {},
   "outputs": [],
   "source": []
  },
  {
   "cell_type": "code",
   "execution_count": null,
   "metadata": {},
   "outputs": [],
   "source": []
  },
  {
   "cell_type": "code",
   "execution_count": null,
   "metadata": {},
   "outputs": [],
   "source": []
  },
  {
   "cell_type": "code",
   "execution_count": null,
   "metadata": {},
   "outputs": [],
   "source": []
  },
  {
   "cell_type": "code",
   "execution_count": null,
   "metadata": {},
   "outputs": [],
   "source": [
    "#############################################################################################"
   ]
  },
  {
   "cell_type": "markdown",
   "metadata": {},
   "source": [
    "We choose the value NGsBlkXp = 8 Ha that ensures convergence at the level of 1 meV (or better) for\n",
    "both the $\\Gamma$ and the K points."
   ]
  },
  {
   "cell_type": "markdown",
   "metadata": {},
   "source": [
    "Next, we perform a convergence analysis on the number of bands. Here we choose to analyze the combined \n",
    "effect of the BndsRnXp and of the GbndRnge parameters. So we iterate over both the parameters."
   ]
  },
  {
   "cell_type": "code",
   "execution_count": 56,
   "metadata": {},
   "outputs": [
    {
     "name": "stdout",
     "output_type": "stream",
     "text": [
      "Initialize a Dataset with 1 parallel tasks\n"
     ]
    }
   ],
   "source": [
    "NGsBlkXp = 8.0 # Ha G size of the response function\n",
    "NGsBlkXp_units = 'Ha'\n",
    "Bands  = [[1,300],[1,400],[1,500]] # Bands in the response function and in the Sigma_c\n",
    "\n",
    "inp.set_array_variables(units=NGsBlkXp_units,NGsBlkXp=NGsBlkXp)\n",
    "\n",
    "study = D.Dataset(num_tasks=1,verbose=True)\n",
    "study.set_postprocessing_function(PP.yambo_parse_data)\n",
    "\n",
    "for bands in Bands:\n",
    "    inp.set_array_variables(BndsRnXp=bands)\n",
    "    inp.set_array_variables(GbndRnge=bands)\n",
    "    # append run at G\n",
    "    idd = 'pp-G-ngsblkxp_%s-bndsrnxp_%s-gbndrnge_%s'%(NGsBlkXp,bands[1],bands[1])\n",
    "    inp.set_kRange(Gamma_index,Gamma_index)\n",
    "    study.append_run(id=idd,input=inp,runner=code,run_dir=run_dir,\n",
    "            jobname=[idd,'ndb_rim_cutoff','ndb_hf_G','ndb_dipoles-nbnds_500',\n",
    "                     'ndb_em1d-ngsblkxp_%s-bndsrnxp_%s'%(NGsBlkXp,bands[1])],reformat=False) \n",
    "    # append run at K\n",
    "    idd = 'pp-K-ngsblkxp_%s-bndsrnxp_%s-gbndrnge_%s'%(NGsBlkXp,bands[1],bands[1])\n",
    "    inp.set_kRange(K_index,K_index)\n",
    "    study.append_run(id=idd,input=inp,runner=code,run_dir=run_dir,\n",
    "            jobname=[idd,'ndb_rim_cutoff','ndb_hf_K','ndb_dipoles-nbnds_500',\n",
    "                     'ndb_em1d-ngsblkxp_%s-bndsrnxp_%s'%(NGsBlkXp,bands[1])],reformat=False) "
   ]
  },
  {
   "cell_type": "code",
   "execution_count": 54,
   "metadata": {},
   "outputs": [],
   "source": [
    "#study.runs[2]"
   ]
  },
  {
   "cell_type": "code",
   "execution_count": 57,
   "metadata": {},
   "outputs": [
    {
     "name": "stdout",
     "output_type": "stream",
     "text": [
      "Run the selection [0, 1, 2, 3, 4, 5] with the parallel task_groups [[0], [1], [2], [3], [4], [5]] \n",
      "\n",
      "Run the task [0] \n",
      "Skip the run of pp-G-ngsblkxp_8.0-bndsrnxp_300-gbndrnge_300\n",
      "Task [0] ended \n",
      " \n",
      "Run the task [1] \n",
      "Skip the run of pp-K-ngsblkxp_8.0-bndsrnxp_300-gbndrnge_300\n",
      "Task [1] ended \n",
      " \n",
      "Run the task [2] \n",
      "Skip the run of pp-G-ngsblkxp_8.0-bndsrnxp_400-gbndrnge_400\n",
      "Task [2] ended \n",
      " \n",
      "Run the task [3] \n",
      "run command: mpirun -np 64 yambo -F pp-K-ngsblkxp_8.0-bndsrnxp_400-gbndrnge_400.in -J \"pp-K-ngsblkxp_8.0-bndsrnxp_400-gbndrnge_400,ndb_rim_cutoff,ndb_hf_K,ndb_dipoles-nbnds_500,ndb_em1d-ngsblkxp_8.0-bndsrnxp_400\" -C pp-K-ngsblkxp_8.0-bndsrnxp_400-gbndrnge_400\n",
      "slurm submit:  cd GW_analysis-ONCV/kpoints_18-nbnds_500 ; sbatch job_pp-K-ngsblkxp_8.0-bndsrnxp_400-gbndrnge_400.sh\n",
      "computation pp-K-ngsblkxp_8.0-bndsrnxp_400-gbndrnge_400 is running...\n",
      "computation pp-K-ngsblkxp_8.0-bndsrnxp_400-gbndrnge_400 ended\n",
      "Run performed in 14m-54s\n",
      "Task [3] ended \n",
      " \n",
      "Run the task [4] \n",
      "Skip the run of pp-G-ngsblkxp_8.0-bndsrnxp_500-gbndrnge_500\n",
      "Task [4] ended \n",
      " \n",
      "Run the task [5] \n",
      "run command: mpirun -np 64 yambo -F pp-K-ngsblkxp_8.0-bndsrnxp_500-gbndrnge_500.in -J \"pp-K-ngsblkxp_8.0-bndsrnxp_500-gbndrnge_500,ndb_rim_cutoff,ndb_hf_K,ndb_dipoles-nbnds_500,ndb_em1d-ngsblkxp_8.0-bndsrnxp_500\" -C pp-K-ngsblkxp_8.0-bndsrnxp_500-gbndrnge_500\n",
      "slurm submit:  cd GW_analysis-ONCV/kpoints_18-nbnds_500 ; sbatch job_pp-K-ngsblkxp_8.0-bndsrnxp_500-gbndrnge_500.sh\n",
      "computation pp-K-ngsblkxp_8.0-bndsrnxp_500-gbndrnge_500 is running...\n",
      "computation pp-K-ngsblkxp_8.0-bndsrnxp_500-gbndrnge_500 ended\n",
      "Run performed in 18m-35s\n",
      "Task [5] ended \n",
      " \n"
     ]
    }
   ],
   "source": [
    "results = study.run()"
   ]
  },
  {
   "cell_type": "code",
   "execution_count": 58,
   "metadata": {},
   "outputs": [
    {
     "data": {
      "text/plain": [
       "([0.797613, 0.792634, 0.789345],\n",
       " [0.17595700000000003, 0.18112499999999998, 0.18471400000000004])"
      ]
     },
     "execution_count": 58,
     "metadata": {},
     "output_type": "execute_result"
    }
   ],
   "source": [
    "results_G, results_K = study.fetch_results(id='-G-'),study.fetch_results(id='-K-')\n",
    "gap_G = [r.data.get_gap(k_full=Gamma_index,band_full=start_band,verbose=False) for r in results_G]\n",
    "gap_K = [r.data.get_gap(k_full=K_index,band_full=start_band,verbose=False) for r in results_K]\n",
    "gap_G,gap_K"
   ]
  },
  {
   "cell_type": "code",
   "execution_count": 59,
   "metadata": {},
   "outputs": [
    {
     "data": {
      "image/png": "[encoded data removed]",
      "text/plain": [
       "<Figure size 864x360 with 2 Axes>"
      ]
     },
     "metadata": {
      "needs_background": "light"
     },
     "output_type": "display_data"
    }
   ],
   "source": [
    "x_vals = [x[1] for x in Bands]\n",
    "\n",
    "fig, axes = plt.subplots(nrows=1, ncols=2, figsize=(12, 5))\n",
    "axes[0].plot(x_vals,gap_G)\n",
    "axes[0].scatter(x_vals,gap_G)\n",
    "axes[0].set_title('Gap at Gamma',size=14)\n",
    "axes[0].set_xlabel('Bands',size=14)\n",
    "axes[1].plot(x_vals, gap_K)\n",
    "axes[1].scatter(x_vals,gap_K)\n",
    "axes[1].set_xlabel('Bands',size=14)\n",
    "axes[1].set_title('Gap at K',size=14)\n",
    "fig.tight_layout()"
   ]
  },
  {
   "cell_type": "markdown",
   "metadata": {},
   "source": [
    "On the basis of this analysis we conclude that NGsBlkXp = 8 Ha, BndsRnXp = GbndRnge = 500 seems to ensure\n",
    " convergence within 5 meV."
   ]
  },
  {
   "cell_type": "code",
   "execution_count": null,
   "metadata": {},
   "outputs": [],
   "source": []
  },
  {
   "cell_type": "code",
   "execution_count": null,
   "metadata": {},
   "outputs": [],
   "source": []
  },
  {
   "cell_type": "code",
   "execution_count": null,
   "metadata": {},
   "outputs": [],
   "source": []
  },
  {
   "cell_type": "code",
   "execution_count": null,
   "metadata": {},
   "outputs": [],
   "source": []
  },
  {
   "cell_type": "code",
   "execution_count": null,
   "metadata": {},
   "outputs": [],
   "source": []
  },
  {
   "cell_type": "code",
   "execution_count": null,
   "metadata": {},
   "outputs": [],
   "source": []
  },
  {
   "cell_type": "code",
   "execution_count": null,
   "metadata": {},
   "outputs": [],
   "source": []
  }
 ],
 "metadata": {
  "kernelspec": {
   "display_name": "Python 3",
   "language": "python",
   "name": "python3"
  },
  "language_info": {
   "codemirror_mode": {
    "name": "ipython",
    "version": 3
   },
   "file_extension": ".py",
   "mimetype": "text/x-python",
   "name": "python",
   "nbconvert_exporter": "python",
   "pygments_lexer": "ipython3",
   "version": "3.6.8"
  }
 },
 "nbformat": 4,
 "nbformat_minor": 4
}

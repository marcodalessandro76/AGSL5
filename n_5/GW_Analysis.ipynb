{
 "cells": [
  {
   "cell_type": "code",
   "execution_count": 1,
   "metadata": {},
   "outputs": [],
   "source": [
    "# useful to autoreload the module without restarting the kernel\n",
    "%load_ext autoreload\n",
    "%autoreload 2"
   ]
  },
  {
   "cell_type": "code",
   "execution_count": 2,
   "metadata": {},
   "outputs": [],
   "source": [
    "from mppi import InputFiles as I, Calculators as C, Datasets as D, Parsers as P, Utilities as U\n",
    "from mppi.Calculators import Tools\n",
    "from mppi.Datasets import PostProcessing as PP\n",
    "import matplotlib.pyplot as plt\n",
    "import numpy as np\n",
    "import os"
   ]
  },
  {
   "cell_type": "code",
   "execution_count": null,
   "metadata": {
    "tags": []
   },
   "outputs": [],
   "source": [
    "# RunRules for ismhpc\n",
    "# The product of ntasks_per_node*cpus_per_task is equal to 32. \n",
    "# Many mpi are needed for better performances\n",
    "nodes = 1\n",
    "ntasks_per_node = 16 #16\n",
    "cpus_per_task = 2 #2\n",
    "omp_num_threads = 2 #2\n",
    "module = '/home/dalessandro/module_script/yambo_module'\n",
    "\n",
    "ntasks = nodes*ntasks_per_node\n",
    "\n",
    "rr = C.RunRules(scheduler='slurm',partition='slownodes', #'all12h',\n",
    "                memory='125000',\n",
    "                nodes=nodes,ntasks_per_node=ntasks_per_node,\n",
    "                cpus_per_task=cpus_per_task,\n",
    "                omp_num_threads=omp_num_threads,pre_processing=module)\n",
    "code = C.YamboCalculator(rr,activate_BeeOND=True) #,reformat=False,clean_restart=False,skip=False,fatlog=True)\n",
    "code.global_options()"
   ]
  },
  {
   "cell_type": "code",
   "execution_count": 4,
   "metadata": {},
   "outputs": [
    {
     "name": "stdout",
     "output_type": "stream",
     "text": [
      "Initialize a Yambo calculator with scheduler slurm\n"
     ]
    },
    {
     "data": {
      "text/plain": [
       "{'scheduler': 'slurm',\n",
       " 'nodes': 1,\n",
       " 'ntasks_per_node': 4,\n",
       " 'cpus_per_task': 8,\n",
       " 'omp_num_threads': 8,\n",
       " 'gpus_per_node': None,\n",
       " 'gres_gpu': 4,\n",
       " 'memory': None,\n",
       " 'time': '23:59:00',\n",
       " 'partition': 'boost_usr_prod',\n",
       " 'account': 'IscrC_ICE-SURF',\n",
       " 'qos': None,\n",
       " 'omp_places': 'cores',\n",
       " 'omp_proc_bind': 'close',\n",
       " 'map_by': 'socket',\n",
       " 'pe': 8,\n",
       " 'rank_by': 'core',\n",
       " 'pre_processing': '/leonardo/home/userexternal/mdaless1/module_script/yambo_gpu',\n",
       " 'executable': 'yambo',\n",
       " 'skip': True,\n",
       " 'clean_restart': True,\n",
       " 'dry_run': False,\n",
       " 'wait_end_run': True,\n",
       " 'activate_BeeOND': False,\n",
       " 'verbose': True,\n",
       " 'fatlog': False}"
      ]
     },
     "execution_count": 4,
     "metadata": {},
     "output_type": "execute_result"
    }
   ],
   "source": [
    "# RunRules for leonardo\n",
    "nodes = 1\n",
    "ntasks_per_node = 4\n",
    "cpus_per_task = 8\n",
    "omp_num_threads = 8\n",
    "gres_gpu=4\n",
    "pe=8\n",
    "module = '/leonardo/home/userexternal/mdaless1/module_script/yambo_gpu'\n",
    "\n",
    "ntasks = nodes*ntasks_per_node\n",
    "\n",
    "rr = C.RunRules(scheduler='slurm',partition='boost_usr_prod',\n",
    "                account='IscrC_ICE-SURF',\n",
    "                time='23:59:00', #memory='120GB',\n",
    "                nodes=nodes,ntasks_per_node=ntasks_per_node,\n",
    "                cpus_per_task=cpus_per_task,omp_num_threads=omp_num_threads,\n",
    "                gres_gpu=gres_gpu,omp_places='cores',omp_proc_bind='close',pe=pe,\n",
    "                map_by='socket',rank_by='core',pre_processing=module)\n",
    "code = C.YamboCalculator(rr)\n",
    "code.global_options()"
   ]
  },
  {
   "cell_type": "markdown",
   "metadata": {
    "tags": []
   },
   "source": [
    "# GW convergence analysis for AGSLn with n=5"
   ]
  },
  {
   "cell_type": "markdown",
   "metadata": {},
   "source": [
    "We perform a convergence study for the GW runlevel"
   ]
  },
  {
   "cell_type": "markdown",
   "metadata": {},
   "source": [
    "## HF Analysis"
   ]
  },
  {
   "cell_type": "markdown",
   "metadata": {},
   "source": [
    "We do not repeat the convergence tests on the rim and Coulomb cutoff and we directly set\n",
    "the values of the converged parameters as\n",
    "\n",
    "* RandGVec = 100\n",
    "* RandQPpts = 5000000"
   ]
  },
  {
   "cell_type": "markdown",
   "metadata": {
    "tags": []
   },
   "source": [
    "### HF convergence analysis for the cutoff in the exchange term"
   ]
  },
  {
   "cell_type": "markdown",
   "metadata": {},
   "source": [
    "We study the convergence of the HF calculations in terms of the cutoff in the exchange term.\n",
    "\n",
    "This analysis is performed with a 10x20x1 k-points sampling using the converged results for RIM and Coulomb cutoff.\n",
    "\n",
    "__Note that we apply the cutoff on the EXXRLvcs variable while the VXCRLvcs is left to its DFT value__\n",
    "\n",
    "__Is this the best choice?__"
   ]
  },
  {
   "cell_type": "code",
   "execution_count": 4,
   "metadata": {},
   "outputs": [
    {
     "name": "stdout",
     "output_type": "stream",
     "text": [
      "SAVE folder MB_analysis/kpoints_10x20-nbnds_35/SAVE already present. No operations performed.\n"
     ]
    }
   ],
   "source": [
    "input_dir = 'DFT_analysis/kpoints_10x20-nbnds_35.save'\n",
    "run_dir = 'MB_analysis/kpoints_10x20-nbnds_35'\n",
    "\n",
    "Tools.init_yambo_dir(yambo_dir=run_dir,input_dir=input_dir)"
   ]
  },
  {
   "cell_type": "markdown",
   "metadata": {},
   "source": [
    "We the define the input variables commmon to all the runs"
   ]
  },
  {
   "cell_type": "code",
   "execution_count": 6,
   "metadata": {},
   "outputs": [],
   "source": [
    "start_band,stop_band = 25,26 # bands range for the computation of the HF corrections\n",
    "Gamma_index = 1\n",
    "RandGvec = 100\n",
    "Randqpts = 5e6\n",
    "\n",
    "EXXRLVcs_units = 'Ha'\n",
    "\n",
    "inp = I.YamboInput(args='yambo -r -x -V all',folder=run_dir)\n",
    "inp.set_scalar_variables(CUTGeo='slab z')\n",
    "inp.set_bandRange(start_band,stop_band)\n",
    "inp.set_array_variables(RandQpts=Randqpts)\n",
    "inp.set_array_variables(units='RL',RandGvec=RandGvec)\n",
    "#inp"
   ]
  },
  {
   "cell_type": "markdown",
   "metadata": {},
   "source": [
    "We perform a convergence run on the EXXRLvcs parameter"
   ]
  },
  {
   "cell_type": "code",
   "execution_count": 9,
   "metadata": {},
   "outputs": [
    {
     "name": "stdout",
     "output_type": "stream",
     "text": [
      "Initialize a Dataset with 2 parallel tasks\n"
     ]
    }
   ],
   "source": [
    "study = D.Dataset(run_dir=run_dir,num_tasks=2,verbose=True)\n",
    "study.set_postprocessing_function(PP.yambo_parse_data)\n",
    "\n",
    "EXXRLvcs = [10.,20.,30.,40.,50.] # Ha\n",
    "\n",
    "# append runs for the Gamma point\n",
    "for exxrlvcs in EXXRLvcs:\n",
    "    idd = 'hf-G-exxrlvcs_%s'%exxrlvcs\n",
    "    inp.set_kRange(Gamma_index,Gamma_index)\n",
    "    inp.set_array_variables(units=EXXRLVcs_units,EXXRLvcs=exxrlvcs)\n",
    "    study.append_run(id=idd,input=inp,runner=code,jobname =idd)"
   ]
  },
  {
   "cell_type": "code",
   "execution_count": 10,
   "metadata": {},
   "outputs": [],
   "source": [
    "#study.runs[2]"
   ]
  },
  {
   "cell_type": "code",
   "execution_count": 16,
   "metadata": {},
   "outputs": [
    {
     "name": "stdout",
     "output_type": "stream",
     "text": [
      "Run the selection [0, 1, 2, 3, 4] with the parallel task_groups [[0, 1], [2, 3], [4]] \n",
      "\n",
      "Run the task [0, 1] \n",
      "Skip the run of hf-G-exxrlvcs_10.0\n",
      "Skip the run of hf-G-exxrlvcs_20.0\n",
      "Task [0, 1] ended \n",
      " \n",
      "Run the task [2, 3] \n",
      "Skip the run of hf-G-exxrlvcs_30.0Skip the run of\n",
      " hf-G-exxrlvcs_40.0\n",
      "Task [2, 3] ended \n",
      " \n",
      "Run the task [4] \n",
      "Skip the run of hf-G-exxrlvcs_50.0\n",
      "Task [4] ended \n",
      " \n"
     ]
    }
   ],
   "source": [
    "results = study.run()"
   ]
  },
  {
   "cell_type": "markdown",
   "metadata": {},
   "source": [
    "We plot the values of the gap at the $\\Gamma$ point"
   ]
  },
  {
   "cell_type": "code",
   "execution_count": 17,
   "metadata": {},
   "outputs": [
    {
     "data": {
      "text/plain": [
       "[2.204822, 2.203676, 2.203482, 2.2035, 2.203482]"
      ]
     },
     "execution_count": 17,
     "metadata": {},
     "output_type": "execute_result"
    }
   ],
   "source": [
    "gap_G = [results[r].data.get_gap(k_full=Gamma_index,band_full=start_band,verbose=False) for r in results]\n",
    "gap_G"
   ]
  },
  {
   "cell_type": "code",
   "execution_count": 18,
   "metadata": {},
   "outputs": [
    {
     "data": {
      "text/plain": [
       "Text(0.5, 0, 'EXXRLvcs (Ha)')"
      ]
     },
     "execution_count": 18,
     "metadata": {},
     "output_type": "execute_result"
    },
    {
     "data": {
      "image/png": "[encoded data removed]",
      "text/plain": [
       "<Figure size 720x432 with 1 Axes>"
      ]
     },
     "metadata": {
      "needs_background": "light"
     },
     "output_type": "display_data"
    }
   ],
   "source": [
    "fig, axes = plt.subplots(figsize=(10, 6))\n",
    "axes.plot(EXXRLvcs,gap_G)\n",
    "axes.scatter(EXXRLvcs,gap_G)\n",
    "axes.set_title('Gap at Gamma',size=14)\n",
    "axes.set_xlabel('EXXRLvcs (Ha)',size=14)"
   ]
  },
  {
   "cell_type": "markdown",
   "metadata": {},
   "source": [
    "On the basis of this analysis we choose the converged value of the cutoff for exchange as\n",
    "\n",
    "EXXRLvcs = 40 Ha\n",
    "\n",
    "which guarantees the convergence of the HF gap at $\\Gamma$ at the level of 1 meV. We ahve also checked that the same\n",
    "precision is valid for the valence and conduction bands, not only for the gap."
   ]
  },
  {
   "cell_type": "markdown",
   "metadata": {
    "tags": []
   },
   "source": [
    "## HF Analysis in function of the k-points sampling"
   ]
  },
  {
   "cell_type": "markdown",
   "metadata": {},
   "source": [
    "We test the convergence of the HF gap at $\\Gamma$ in function of the dimension of the $k$-points sampling.\n",
    "\n",
    "The converged parameters for the RIM and Coulomb cutoff and for the cutoff on the exchange derived in the previous analysis will be used."
   ]
  },
  {
   "cell_type": "code",
   "execution_count": 19,
   "metadata": {},
   "outputs": [],
   "source": [
    "start_band,stop_band = 25,26 # bands range for the computation of the HF corrections\n",
    "Gamma_index = 1\n",
    "RandGvec = 100\n",
    "RandQpts = 5e6\n",
    "\n",
    "EXXRLvcs = 40. # Ha\n",
    "EXXRLVcs_units = 'Ha'"
   ]
  },
  {
   "cell_type": "code",
   "execution_count": 20,
   "metadata": {},
   "outputs": [],
   "source": [
    "kvalues = [10,15,20,25,30]"
   ]
  },
  {
   "cell_type": "code",
   "execution_count": 21,
   "metadata": {},
   "outputs": [
    {
     "name": "stdout",
     "output_type": "stream",
     "text": [
      "Initialize a Dataset with 2 parallel tasks\n",
      "SAVE folder MB_analysis/kpoints_10x20-nbnds_35/SAVE already present. No operations performed.\n",
      "SAVE folder MB_analysis/kpoints_15x30-nbnds_35/SAVE already present. No operations performed.\n",
      "SAVE folder MB_analysis/kpoints_20x40-nbnds_35/SAVE already present. No operations performed.\n",
      "SAVE folder MB_analysis/kpoints_25x50-nbnds_35/SAVE already present. No operations performed.\n",
      "SAVE folder MB_analysis/kpoints_30x60-nbnds_35/SAVE already present. No operations performed.\n"
     ]
    }
   ],
   "source": [
    "study = D.Dataset(num_tasks=2,verbose=True)\n",
    "study.set_postprocessing_function(PP.yambo_parse_data)\n",
    "\n",
    "for k in kvalues:\n",
    "    input_dir = 'DFT_analysis/kpoints_%sx%s-nbnds_35.save'%(k,2*k)\n",
    "    run_dir = 'MB_analysis/kpoints_%sx%s-nbnds_35'%(k,2*k)\n",
    "    Tools.init_yambo_dir(yambo_dir=run_dir,input_dir=input_dir)\n",
    "    \n",
    "    inp = I.YamboInput(args='yambo -r -x -V all',folder=run_dir)\n",
    "    inp.set_array_variables(units=EXXRLVcs_units,EXXRLvcs=EXXRLvcs)\n",
    "    inp.set_bandRange(start_band,stop_band)\n",
    "    inp.set_scalar_variables(CUTGeo='slab z')\n",
    "    inp.set_array_variables(RandQpts=RandQpts)\n",
    "    inp.set_array_variables(units='RL',RandGvec=RandGvec)\n",
    "    inp.set_scalar_variables(SE_ROLEs='q.qp.b',SE_CPU='1.1.16') # for 1 nodes on ismhpc (with 16 mpi and 2 omp per node)\n",
    "    \n",
    "    # append run at G\n",
    "    idd = 'hf-G-kpoints_%sx%s'%(k,2*k)\n",
    "    inp.set_kRange(Gamma_index,Gamma_index)\n",
    "    study.append_run(id=idd,input=inp,runner=code,run_dir=run_dir,jobname=idd)"
   ]
  },
  {
   "cell_type": "code",
   "execution_count": 23,
   "metadata": {},
   "outputs": [],
   "source": [
    "#study.ids"
   ]
  },
  {
   "cell_type": "code",
   "execution_count": 24,
   "metadata": {},
   "outputs": [],
   "source": [
    "#study.runs[3]"
   ]
  },
  {
   "cell_type": "code",
   "execution_count": 25,
   "metadata": {},
   "outputs": [
    {
     "name": "stdout",
     "output_type": "stream",
     "text": [
      "Run the selection [0, 1, 2, 3, 4] with the parallel task_groups [[0, 1], [2, 3], [4]] \n",
      "\n",
      "Run the task [0, 1] \n",
      "Skip the run of Skip the run ofhf-G-kpoints_15x30 \n",
      "hf-G-kpoints_10x20\n",
      "Task [0, 1] ended \n",
      " \n",
      "Run the task [2, 3] \n",
      "Skip the run of hf-G-kpoints_20x40\n",
      "Skip the run of hf-G-kpoints_25x50\n",
      "Task [2, 3] ended \n",
      " \n",
      "Run the task [4] \n",
      "Skip the run of hf-G-kpoints_30x60\n",
      "Task [4] ended \n",
      " \n"
     ]
    }
   ],
   "source": [
    "results = study.run()"
   ]
  },
  {
   "cell_type": "code",
   "execution_count": 26,
   "metadata": {},
   "outputs": [
    {
     "data": {
      "text/plain": [
       "[2.2034830000000003,\n",
       " 2.136705,\n",
       " 2.1199030000000003,\n",
       " 2.115724,\n",
       " 2.1150349999999998]"
      ]
     },
     "execution_count": 26,
     "metadata": {},
     "output_type": "execute_result"
    }
   ],
   "source": [
    "gap_G = [results[ind].data.get_gap(k_full=Gamma_index,band_full=start_band,verbose=False) for ind in results]\n",
    "gap_G"
   ]
  },
  {
   "cell_type": "code",
   "execution_count": 35,
   "metadata": {},
   "outputs": [
    {
     "data": {
      "text/plain": [
       "<matplotlib.patches.Polygon at 0x7fa6ef9dc518>"
      ]
     },
     "execution_count": 35,
     "metadata": {},
     "output_type": "execute_result"
    },
    {
     "data": {
      "image/png": "[encoded data removed]",
      "text/plain": [
       "<Figure size 864x360 with 1 Axes>"
      ]
     },
     "metadata": {
      "needs_background": "light"
     },
     "output_type": "display_data"
    }
   ],
   "source": [
    "fig, axes = plt.subplots(figsize=(12, 5))\n",
    "axes.plot(kvalues,gap_G)\n",
    "axes.scatter(kvalues,gap_G)\n",
    "axes.set_title('Gap at Gamma',size=14)\n",
    "axes.set_xlabel('k-sampling',size=14)\n",
    "#axes.hlines(gap_G[-1],10.,30,linestyles='-',color='gray',linewidth=1)\n",
    "#axes.hlines(gap_G[-1]+0.005,10.,30,linestyles='-',color='gray',linewidth=1)\n",
    "axes.axhspan(gap_G[-1], gap_G[-1]+0.005, xmin = 0.2,facecolor='red', alpha=0.5)"
   ]
  },
  {
   "cell_type": "markdown",
   "metadata": {},
   "source": [
    "With the 20x40x1 sampling the HF gap at $\\Gamma$ is converged at the level of 5 meV."
   ]
  },
  {
   "cell_type": "markdown",
   "metadata": {
    "tags": []
   },
   "source": [
    "## Plasmon pole analysis"
   ]
  },
  {
   "cell_type": "markdown",
   "metadata": {},
   "source": [
    "We study the convergence of the gap at $\\Gamma$ using the plasmon pole run level."
   ]
  },
  {
   "cell_type": "code",
   "execution_count": null,
   "metadata": {},
   "outputs": [],
   "source": [
    "# RunRules for ismhpc\n",
    "# The product of ntasks_per_node*cpus_per_task is equal to 32. \n",
    "# Many mpi are needed for better performances\n",
    "nodes = 2\n",
    "ntasks_per_node = 32 #16\n",
    "cpus_per_task = 1 #2\n",
    "omp_num_threads = 1 #2\n",
    "module = '/home/dalessandro/module_script/yambo_module'\n",
    "\n",
    "ntasks = nodes*ntasks_per_node\n",
    "\n",
    "rr = C.RunRules(scheduler='slurm',partition='slownodes', #'all12h',\n",
    "                memory='125000',\n",
    "                nodes=nodes,ntasks_per_node=ntasks_per_node,\n",
    "                cpus_per_task=cpus_per_task,\n",
    "                omp_num_threads=omp_num_threads,pre_processing=module)\n",
    "code = C.YamboCalculator(rr,activate_BeeOND=True) #,reformat=False,clean_restart=False,skip=False,fatlog=True)\n",
    "code.global_options()"
   ]
  },
  {
   "cell_type": "markdown",
   "metadata": {
    "tags": []
   },
   "source": [
    "### Convergence analysis of the screening"
   ]
  },
  {
   "cell_type": "markdown",
   "metadata": {},
   "source": [
    "#### Convergence of the NGsBlkXp parameter"
   ]
  },
  {
   "cell_type": "markdown",
   "metadata": {},
   "source": [
    "We use the 10x20x1 k-points sampling (for computational reasons on the ism cluster) and perform a convergence analysis in the BndsRnXp and GbndRnge parameters needed to compute the screening function.\n",
    "\n",
    "We perform this analysis using the RIM_W with RandGvecW=10."
   ]
  },
  {
   "cell_type": "code",
   "execution_count": 4,
   "metadata": {},
   "outputs": [
    {
     "name": "stdout",
     "output_type": "stream",
     "text": [
      "SAVE folder MB_analysis/kpoints_10x20-nbnds_500/SAVE already present. No operations performed.\n"
     ]
    }
   ],
   "source": [
    "input_dir = 'DFT_analysis/kpoints_10x20-nbnds_500.save'\n",
    "run_dir = 'MB_analysis/kpoints_10x20-nbnds_500'\n",
    "Tools.init_yambo_dir(yambo_dir=run_dir,input_dir=input_dir)"
   ]
  },
  {
   "cell_type": "markdown",
   "metadata": {},
   "source": [
    "We the define the input variables common to all the runs"
   ]
  },
  {
   "cell_type": "code",
   "execution_count": 5,
   "metadata": {},
   "outputs": [
    {
     "name": "stdout",
     "output_type": "stream",
     "text": [
      "32 2\n"
     ]
    }
   ],
   "source": [
    "ntasks_c = 32 #16\n",
    "ntasks_v = int(ntasks/ntasks_c)\n",
    "print(ntasks_c,ntasks_v)\n",
    "\n",
    "start_band,stop_band = 25,26\n",
    "Gamma_index = 1\n",
    "RandGvec = 100\n",
    "RandGvecW = 10\n",
    "Randqpts = 5e6\n",
    "\n",
    "EXXRLVcs_units = 'Ha'\n",
    "EXXRLvcs = 40. # Ha\n",
    "#FFTGvecs = 40. # Ha \n",
    "\n",
    "inp = I.YamboInput(args='yambo -r -rw -k hartee -dyson n -gw0 p -V all',folder=run_dir)\n",
    "inp.set_extendOut()\n",
    "inp.set_array_variables(units=EXXRLVcs_units,EXXRLvcs=EXXRLvcs) #,FFTGvecs=FFTGvecs \n",
    "inp.set_bandRange(start_band,stop_band)\n",
    "inp.set_scalar_variables(CUTGeo='slab z')\n",
    "inp.set_array_variables(RandQpts=Randqpts)\n",
    "inp.set_array_variables(units='RL',RandGvec=RandGvec,RandGvecW=RandGvecW)\n",
    "inp.set_scalar_variables(SE_ROLEs='q.qp.b',SE_CPU='2.2.16') # for 2 nodes on ismhpc (with 32 mpi and 1 omp per node)\n",
    "inp.set_scalar_variables(X_and_IO_ROLEs='q.g.k.c.v',X_and_IO_CPU='1.1.1.%s.%s'%(ntasks_c,ntasks_v))\n",
    "inp.set_scalar_variables(DIP_ROLEs='k.c.v',DIP_CPU='1.%s.%s'%(ntasks_c,ntasks_v))\n",
    "#inp"
   ]
  },
  {
   "cell_type": "markdown",
   "metadata": {},
   "source": [
    "First we run over NGsBlkXp and we set the number of bands in the response function to the 300 for a balance between computational time and a proper\n",
    "check of the convergence of the G size of the response (since these variables are correlated).\n",
    "\n",
    "The variable LongDrXp is set to the inplane value [1,1,0] "
   ]
  },
  {
   "cell_type": "code",
   "execution_count": 6,
   "metadata": {},
   "outputs": [
    {
     "name": "stdout",
     "output_type": "stream",
     "text": [
      "Initialize a Dataset with 1 parallel tasks\n"
     ]
    }
   ],
   "source": [
    "NGsBlkXp = [4.0,6.0,8.0] #[4.0,6.0,8.0,10.] # Ha G size of the response function\n",
    "NGsBlkXp_units = 'Ha'\n",
    "BndsRnXp  = [1,300] # Bands in the response function\n",
    "GbndRnge = [1,300]  # Bands in the Sigma_c\n",
    "\n",
    "inp.set_array_variables(BndsRnXp=BndsRnXp,GbndRnge=GbndRnge)\n",
    "inp.set_array_variables(LongDrXp=[1.,1.,0.])\n",
    "\n",
    "study = D.Dataset(num_tasks=1,verbose=True)\n",
    "study.set_postprocessing_function(PP.yambo_parse_data)\n",
    "\n",
    "for ngsblkxp in NGsBlkXp:\n",
    "    inp.set_array_variables(units=NGsBlkXp_units,NGsBlkXp=ngsblkxp)\n",
    "    # append run at G\n",
    "    idd = 'pp-G-ngsblkxp_%s-bndsrnxp_%s-gbndrnge_%s'%(ngsblkxp,BndsRnXp[1],GbndRnge[1])\n",
    "    inp.set_kRange(Gamma_index,Gamma_index)\n",
    "    study.append_run(id=idd,input=inp,runner=code,run_dir=run_dir,\n",
    "            jobname=[idd,'ndbs','ndb_pp-ngsblkxp_%s-bndsrnxp_%s'%(ngsblkxp,BndsRnXp[1])],reformat=False)"
   ]
  },
  {
   "cell_type": "code",
   "execution_count": 7,
   "metadata": {},
   "outputs": [],
   "source": [
    "#study.runs[2]"
   ]
  },
  {
   "cell_type": "code",
   "execution_count": 8,
   "metadata": {},
   "outputs": [
    {
     "name": "stdout",
     "output_type": "stream",
     "text": [
      "Run the selection [0, 1, 2] with the parallel task_groups [[0], [1], [2]] \n",
      "\n",
      "Run the task [0] \n",
      "Skip the run of pp-G-ngsblkxp_4.0-bndsrnxp_300-gbndrnge_300\n",
      "Task [0] ended \n",
      " \n",
      "Run the task [1] \n",
      "Skip the run of pp-G-ngsblkxp_6.0-bndsrnxp_300-gbndrnge_300\n",
      "Task [1] ended \n",
      " \n",
      "Run the task [2] \n",
      "Skip the run of pp-G-ngsblkxp_8.0-bndsrnxp_300-gbndrnge_300\n",
      "Task [2] ended \n",
      " \n"
     ]
    }
   ],
   "source": [
    "results = study.run()"
   ]
  },
  {
   "cell_type": "code",
   "execution_count": 9,
   "metadata": {},
   "outputs": [
    {
     "data": {
      "text/plain": [
       "[0.9217709999999999, 0.9299519999999999, 0.931984]"
      ]
     },
     "execution_count": 9,
     "metadata": {},
     "output_type": "execute_result"
    }
   ],
   "source": [
    "gap_G = [results[ind].data.get_gap(k_full=Gamma_index,band_full=start_band,verbose=False) for ind in results]\n",
    "gap_G"
   ]
  },
  {
   "cell_type": "code",
   "execution_count": 10,
   "metadata": {},
   "outputs": [
    {
     "data": {
      "text/plain": [
       "Text(0.5, 0, 'NGsBlkXp (Ha)')"
      ]
     },
     "execution_count": 10,
     "metadata": {},
     "output_type": "execute_result"
    },
    {
     "data": {
      "image/png": "[encoded data removed]",
      "text/plain": [
       "<Figure size 864x360 with 1 Axes>"
      ]
     },
     "metadata": {
      "needs_background": "light"
     },
     "output_type": "display_data"
    }
   ],
   "source": [
    "fig, axes = plt.subplots(figsize=(12, 5))\n",
    "axes.plot(NGsBlkXp,gap_G)\n",
    "axes.scatter(NGsBlkXp,gap_G)\n",
    "axes.set_title('Gap at Gamma',size=14)\n",
    "axes.set_xlabel('NGsBlkXp (Ha)',size=14)"
   ]
  },
  {
   "cell_type": "markdown",
   "metadata": {},
   "source": [
    "We observe that the choice NGsBlkXp = 8 Ha could provide convergence of the screening at the level of few meV,\n",
    "also in view of a possible hidden slower convergence rate due to the correlation between this value and the number of bands.\n",
    "\n",
    "In case the computational load should be to heavy it is possible to reduce this parameter to NGsBlkXp = 6 Ha. Indeed it worth nothing that \n",
    "for this system the direct gap is of the order of the hundreds of eV, so a computational convergence at the level of some tenth of eV\n",
    "should be acceptable."
   ]
  },
  {
   "cell_type": "markdown",
   "metadata": {},
   "source": [
    "#### Convergence of the BndsRnXp parameter"
   ]
  },
  {
   "cell_type": "markdown",
   "metadata": {},
   "source": [
    "We perform this analysis performing the computations on the Leonardo hpc. "
   ]
  },
  {
   "cell_type": "code",
   "execution_count": 21,
   "metadata": {},
   "outputs": [
    {
     "name": "stdout",
     "output_type": "stream",
     "text": [
      "Initialize a Yambo calculator with scheduler slurm\n"
     ]
    },
    {
     "data": {
      "text/plain": [
       "{'scheduler': 'slurm',\n",
       " 'nodes': 4,\n",
       " 'ntasks_per_node': 4,\n",
       " 'cpus_per_task': 8,\n",
       " 'omp_num_threads': 8,\n",
       " 'gpus_per_node': None,\n",
       " 'gres_gpu': 4,\n",
       " 'memory': None,\n",
       " 'time': '23:59:00',\n",
       " 'partition': 'boost_usr_prod',\n",
       " 'account': 'IscrC_ICE-SURF',\n",
       " 'qos': None,\n",
       " 'omp_places': 'cores',\n",
       " 'omp_proc_bind': 'close',\n",
       " 'map_by': 'socket',\n",
       " 'pe': 8,\n",
       " 'rank_by': 'core',\n",
       " 'pre_processing': '/leonardo/home/userexternal/mdaless1/module_script/yambo_gpu',\n",
       " 'executable': 'yambo',\n",
       " 'skip': True,\n",
       " 'clean_restart': True,\n",
       " 'dry_run': False,\n",
       " 'wait_end_run': True,\n",
       " 'activate_BeeOND': False,\n",
       " 'verbose': True,\n",
       " 'fatlog': False}"
      ]
     },
     "execution_count": 21,
     "metadata": {},
     "output_type": "execute_result"
    }
   ],
   "source": [
    "# RunRules for leonardo\n",
    "nodes = 4\n",
    "ntasks_per_node = 4\n",
    "cpus_per_task = 8\n",
    "omp_num_threads = 8\n",
    "gres_gpu=4\n",
    "pe=8\n",
    "module = '/leonardo/home/userexternal/mdaless1/module_script/yambo_gpu'\n",
    "\n",
    "ntasks = nodes*ntasks_per_node\n",
    "\n",
    "rr = C.RunRules(scheduler='slurm',partition='boost_usr_prod',\n",
    "                account='IscrC_ICE-SURF',\n",
    "                time='23:59:00',\n",
    "                nodes=nodes,ntasks_per_node=ntasks_per_node,\n",
    "                cpus_per_task=cpus_per_task,omp_num_threads=omp_num_threads,\n",
    "                gres_gpu=gres_gpu,omp_places='cores',omp_proc_bind='close',pe=pe,\n",
    "                map_by='socket',rank_by='core',pre_processing=module)\n",
    "code = C.YamboCalculator(rr)\n",
    "code.global_options()"
   ]
  },
  {
   "cell_type": "code",
   "execution_count": 22,
   "metadata": {},
   "outputs": [
    {
     "name": "stdout",
     "output_type": "stream",
     "text": [
      "SAVE folder MB_analysis/kpoints_10x20-nbnds_800/SAVE already present. No operations performed.\n"
     ]
    }
   ],
   "source": [
    "input_dir = 'DFT_analysis/kpoints_10x20-nbnds_800.save'\n",
    "run_dir = 'MB_analysis/kpoints_10x20-nbnds_800'\n",
    "Tools.init_yambo_dir(yambo_dir=run_dir,input_dir=input_dir)"
   ]
  },
  {
   "cell_type": "markdown",
   "metadata": {},
   "source": [
    "We perform a convergence analysis on the number of bands of the screening.For this analysis the\n",
    "number of bands of the Green function is keep fixed at the value GbndRnge = 300"
   ]
  },
  {
   "cell_type": "code",
   "execution_count": 28,
   "metadata": {},
   "outputs": [
    {
     "name": "stdout",
     "output_type": "stream",
     "text": [
      "16 1\n",
      "Initialize a Dataset with 1 parallel tasks\n"
     ]
    }
   ],
   "source": [
    "ntasks_c = 16 #16\n",
    "ntasks_v = int(ntasks/ntasks_c)\n",
    "print(ntasks_c,ntasks_v)\n",
    "\n",
    "start_band,stop_band = 25,26\n",
    "Gamma_index = 1\n",
    "RandGvec = 100\n",
    "RandGvecW = 10\n",
    "Randqpts = 5e6\n",
    "\n",
    "EXXRLVcs_units = 'Ha'\n",
    "EXXRLvcs = 40. # Ha\n",
    "NGsBlkXp = 8.0 # Ha G size of the response function\n",
    "NGsBlkXp_units = 'Ha'\n",
    "Bands  = [[1,300],[1,400],[1,500]] # Bands in the response function\n",
    "GbndRnge = [1,300]  # Bands in the Sigma_c\n",
    "\n",
    "inp = I.YamboInput(args='yambo -r -rw -k hartee -dyson n -gw0 p -V all',folder=run_dir)\n",
    "inp.set_extendOut()\n",
    "inp.set_array_variables(units=EXXRLVcs_units,EXXRLvcs=EXXRLvcs) \n",
    "inp.set_bandRange(start_band,stop_band)\n",
    "inp.set_scalar_variables(CUTGeo='slab z')\n",
    "inp.set_array_variables(RandQpts=Randqpts)\n",
    "inp.set_array_variables(units='RL',RandGvec=RandGvec,RandGvecW=RandGvecW)\n",
    "#inp.set_scalar_variables(SE_ROLEs='q.qp.b',SE_CPU='2.2.16') # for 2 nodes on ismhpc (with 32 mpi and 1 omp per node)\n",
    "inp.set_scalar_variables(SE_ROLEs='q.qp.b',SE_CPU='1.1.16') # for 4 nodes on leonardo\n",
    "inp.set_scalar_variables(X_and_IO_ROLEs='q.g.k.c.v',X_and_IO_CPU='1.1.1.%s.%s'%(ntasks_c,ntasks_v))\n",
    "inp.set_scalar_variables(DIP_ROLEs='k.c.v',DIP_CPU='1.%s.%s'%(ntasks_c,ntasks_v))\n",
    "inp.set_array_variables(units=NGsBlkXp_units,NGsBlkXp=NGsBlkXp)\n",
    "\n",
    "study = D.Dataset(num_tasks=1,verbose=True)\n",
    "study.set_postprocessing_function(PP.yambo_parse_data)\n",
    "\n",
    "for bands in Bands:\n",
    "    inp.set_array_variables(BndsRnXp=bands)\n",
    "    inp.set_array_variables(GbndRnge=GbndRnge)\n",
    "    # append run at G\n",
    "    idd = 'pp-G-ngsblkxp_%s-bndsrnxp_%s-gbndrnge_%s'%(NGsBlkXp,bands[1],GbndRnge[1])\n",
    "    inp.set_kRange(Gamma_index,Gamma_index)\n",
    "    study.append_run(id=idd,input=inp,runner=code,run_dir=run_dir,\n",
    "            jobname=[idd,'ndbs','ndb_pp-ngsblkxp_%s-bndsrnxp_%s'%(NGsBlkXp,bands[1])],reformat=False) "
   ]
  },
  {
   "cell_type": "code",
   "execution_count": 34,
   "metadata": {},
   "outputs": [
    {
     "data": {
      "text/plain": [
       "['pp-G-ngsblkxp_8.0-bndsrnxp_300-gbndrnge_300',\n",
       " 'pp-G-ngsblkxp_8.0-bndsrnxp_400-gbndrnge_300',\n",
       " 'pp-G-ngsblkxp_8.0-bndsrnxp_500-gbndrnge_300']"
      ]
     },
     "execution_count": 34,
     "metadata": {},
     "output_type": "execute_result"
    }
   ],
   "source": [
    "study.ids"
   ]
  },
  {
   "cell_type": "code",
   "execution_count": 25,
   "metadata": {},
   "outputs": [],
   "source": [
    "#study.runs[1]"
   ]
  },
  {
   "cell_type": "code",
   "execution_count": 30,
   "metadata": {},
   "outputs": [
    {
     "name": "stdout",
     "output_type": "stream",
     "text": [
      "Run the selection [0, 1, 2] with the parallel task_groups [[0], [1], [2]] \n",
      "\n",
      "Run the task [0] \n",
      "Skip the run of pp-G-ngsblkxp_8.0-bndsrnxp_300-gbndrnge_300\n",
      "Task [0] ended \n",
      " \n",
      "Run the task [1] \n",
      "Skip the run of pp-G-ngsblkxp_8.0-bndsrnxp_400-gbndrnge_300\n",
      "Task [1] ended \n",
      " \n",
      "Run the task [2] \n",
      "Skip the run of pp-G-ngsblkxp_8.0-bndsrnxp_500-gbndrnge_300\n",
      "Task [2] ended \n",
      " \n"
     ]
    }
   ],
   "source": [
    "results = study.run()"
   ]
  },
  {
   "cell_type": "code",
   "execution_count": 51,
   "metadata": {},
   "outputs": [
    {
     "data": {
      "text/plain": [
       "[0.931984, 1.154542, 1.153888]"
      ]
     },
     "execution_count": 51,
     "metadata": {},
     "output_type": "execute_result"
    }
   ],
   "source": [
    "gap_G = [results[ind].data.get_gap(k_full=Gamma_index,band_full=start_band,verbose=False) for ind in range(len(Bands))]\n",
    "gap_G"
   ]
  },
  {
   "cell_type": "code",
   "execution_count": 52,
   "metadata": {},
   "outputs": [
    {
     "data": {
      "text/plain": [
       "Text(0.5, 0, 'BndsRnXp')"
      ]
     },
     "execution_count": 52,
     "metadata": {},
     "output_type": "execute_result"
    },
    {
     "data": {
      "image/png": "[encoded data removed]",
      "text/plain": [
       "<Figure size 1000x500 with 1 Axes>"
      ]
     },
     "metadata": {},
     "output_type": "display_data"
    }
   ],
   "source": [
    "x_vals = [x[1] for x in Bands]\n",
    "\n",
    "fig, axes = plt.subplots(figsize=(10, 5))\n",
    "axes.plot(x_vals,gap_G)\n",
    "axes.scatter(x_vals,gap_G)\n",
    "axes.set_title('Gap at Gamma',size=14)\n",
    "axes.set_xlabel('BndsRnXp',size=14)"
   ]
  },
  {
   "cell_type": "markdown",
   "metadata": {},
   "source": [
    "We observe that 400 bands in the screening provide an acceptable convergence. We could choos to increase this\n",
    "value to 500 for safety, since in this procedure we are only checking the convergence rate at $\\Gamma$."
   ]
  },
  {
   "cell_type": "markdown",
   "metadata": {},
   "source": [
    "#### Convergence of the GbndRnge parameter"
   ]
  },
  {
   "cell_type": "markdown",
   "metadata": {},
   "source": [
    "We perform this analysis performing the computations on the Leonardo hpc. "
   ]
  },
  {
   "cell_type": "code",
   "execution_count": 53,
   "metadata": {},
   "outputs": [
    {
     "name": "stdout",
     "output_type": "stream",
     "text": [
      "Initialize a Yambo calculator with scheduler slurm\n"
     ]
    },
    {
     "data": {
      "text/plain": [
       "{'scheduler': 'slurm',\n",
       " 'nodes': 4,\n",
       " 'ntasks_per_node': 4,\n",
       " 'cpus_per_task': 8,\n",
       " 'omp_num_threads': 8,\n",
       " 'gpus_per_node': None,\n",
       " 'gres_gpu': 4,\n",
       " 'memory': None,\n",
       " 'time': '23:59:00',\n",
       " 'partition': 'boost_usr_prod',\n",
       " 'account': 'IscrC_ICE-SURF',\n",
       " 'qos': None,\n",
       " 'omp_places': 'cores',\n",
       " 'omp_proc_bind': 'close',\n",
       " 'map_by': 'socket',\n",
       " 'pe': 8,\n",
       " 'rank_by': 'core',\n",
       " 'pre_processing': '/leonardo/home/userexternal/mdaless1/module_script/yambo_gpu',\n",
       " 'executable': 'yambo',\n",
       " 'skip': True,\n",
       " 'clean_restart': True,\n",
       " 'dry_run': False,\n",
       " 'wait_end_run': True,\n",
       " 'activate_BeeOND': False,\n",
       " 'verbose': True,\n",
       " 'fatlog': False}"
      ]
     },
     "execution_count": 53,
     "metadata": {},
     "output_type": "execute_result"
    }
   ],
   "source": [
    "# RunRules for leonardo\n",
    "nodes = 4\n",
    "ntasks_per_node = 4\n",
    "cpus_per_task = 8\n",
    "omp_num_threads = 8\n",
    "gres_gpu=4\n",
    "pe=8\n",
    "module = '/leonardo/home/userexternal/mdaless1/module_script/yambo_gpu'\n",
    "\n",
    "ntasks = nodes*ntasks_per_node\n",
    "\n",
    "rr = C.RunRules(scheduler='slurm',partition='boost_usr_prod',\n",
    "                account='IscrC_ICE-SURF',\n",
    "                time='23:59:00',\n",
    "                nodes=nodes,ntasks_per_node=ntasks_per_node,\n",
    "                cpus_per_task=cpus_per_task,omp_num_threads=omp_num_threads,\n",
    "                gres_gpu=gres_gpu,omp_places='cores',omp_proc_bind='close',pe=pe,\n",
    "                map_by='socket',rank_by='core',pre_processing=module)\n",
    "code = C.YamboCalculator(rr)\n",
    "code.global_options()"
   ]
  },
  {
   "cell_type": "code",
   "execution_count": 54,
   "metadata": {},
   "outputs": [
    {
     "name": "stdout",
     "output_type": "stream",
     "text": [
      "SAVE folder MB_analysis/kpoints_10x20-nbnds_800/SAVE already present. No operations performed.\n"
     ]
    }
   ],
   "source": [
    "input_dir = 'DFT_analysis/kpoints_10x20-nbnds_800.save'\n",
    "run_dir = 'MB_analysis/kpoints_10x20-nbnds_800'\n",
    "Tools.init_yambo_dir(yambo_dir=run_dir,input_dir=input_dir)"
   ]
  },
  {
   "cell_type": "markdown",
   "metadata": {},
   "source": [
    "We perform a convergence analysis on the number of bands of the G function. We also test the effects of the terminator on the G function."
   ]
  },
  {
   "cell_type": "code",
   "execution_count": 91,
   "metadata": {},
   "outputs": [
    {
     "name": "stdout",
     "output_type": "stream",
     "text": [
      "16 1\n",
      "Initialize a Dataset with 2 parallel tasks\n"
     ]
    }
   ],
   "source": [
    "ntasks_c = 16 #16\n",
    "ntasks_v = int(ntasks/ntasks_c)\n",
    "print(ntasks_c,ntasks_v)\n",
    "\n",
    "start_band,stop_band = 25,26\n",
    "Gamma_index = 1\n",
    "RandGvec = 100\n",
    "RandGvecW = 10\n",
    "Randqpts = 5e6\n",
    "\n",
    "EXXRLVcs_units = 'Ha'\n",
    "EXXRLvcs = 40. # Ha\n",
    "NGsBlkXp = 8.0 # Ha G size of the response function\n",
    "NGsBlkXp_units = 'Ha'\n",
    "BndsRnXp = [1,500]\n",
    "Bands  = [[1,300],[1,400],[1,500],[1,600],[1,700]] # Bands in the G function\n",
    "\n",
    "inp = I.YamboInput(args='yambo -r -rw -k hartee -dyson n -gw0 p -V all',folder=run_dir)\n",
    "inp.set_extendOut()\n",
    "inp.set_array_variables(units=EXXRLVcs_units,EXXRLvcs=EXXRLvcs) \n",
    "inp.set_bandRange(start_band,stop_band)\n",
    "inp.set_scalar_variables(CUTGeo='slab z')\n",
    "inp.set_array_variables(RandQpts=Randqpts)\n",
    "inp.set_array_variables(units='RL',RandGvec=RandGvec,RandGvecW=RandGvecW)\n",
    "#inp.set_scalar_variables(SE_ROLEs='q.qp.b',SE_CPU='2.2.16') # for 2 nodes on ismhpc (with 32 mpi and 1 omp per node)\n",
    "inp.set_scalar_variables(SE_ROLEs='q.qp.b',SE_CPU='1.1.16') # for 4 nodes on leonardo\n",
    "inp.set_scalar_variables(X_and_IO_ROLEs='q.g.k.c.v',X_and_IO_CPU='1.1.1.%s.%s'%(ntasks_c,ntasks_v))\n",
    "inp.set_scalar_variables(DIP_ROLEs='k.c.v',DIP_CPU='1.%s.%s'%(ntasks_c,ntasks_v))\n",
    "inp.set_array_variables(units=NGsBlkXp_units,NGsBlkXp=NGsBlkXp)\n",
    "inp.set_array_variables(BndsRnXp=BndsRnXp)\n",
    "\n",
    "study = D.Dataset(num_tasks=4,verbose=True)\n",
    "study.set_postprocessing_function(PP.yambo_parse_data)\n",
    "\n",
    "for bands in Bands:\n",
    "    inp.set_array_variables(GbndRnge=bands)\n",
    "    # append run at G\n",
    "    idd = 'pp-G-ngsblkxp_%s-bndsrnxp_%s-gbndrnge_%s'%(NGsBlkXp,BndsRnXp[1],bands[1])\n",
    "    inp.set_kRange(Gamma_index,Gamma_index)\n",
    "    study.append_run(id=idd,input=inp,runner=code,run_dir=run_dir,\n",
    "            jobname=[idd,'ndbs','ndb_pp-ngsblkxp_%s-bndsrnxp_%s'%(NGsBlkXp,BndsRnXp[1])],reformat=False)\n",
    "\n",
    "inp.set_scalar_variables(GTermKind='BG')\n",
    "\n",
    "for bands in Bands:\n",
    "    inp.set_array_variables(GbndRnge=bands)\n",
    "    # append run at G\n",
    "    idd = 'pp-G-ngsblkxp_%s-bndsrnxp_%s-gbndrnge_%s-Gterm'%(NGsBlkXp,BndsRnXp[1],bands[1])\n",
    "    inp.set_kRange(Gamma_index,Gamma_index)\n",
    "    study.append_run(id=idd,input=inp,runner=code,run_dir=run_dir,\n",
    "            jobname=[idd,'ndbs','ndb_pp-ngsblkxp_%s-bndsrnxp_%s'%(NGsBlkXp,BndsRnXp[1])],reformat=False)\n"
   ]
  },
  {
   "cell_type": "code",
   "execution_count": 97,
   "metadata": {},
   "outputs": [
    {
     "data": {
      "text/plain": [
       "['pp-G-ngsblkxp_8.0-bndsrnxp_500-gbndrnge_300',\n",
       " 'pp-G-ngsblkxp_8.0-bndsrnxp_500-gbndrnge_400',\n",
       " 'pp-G-ngsblkxp_8.0-bndsrnxp_500-gbndrnge_500',\n",
       " 'pp-G-ngsblkxp_8.0-bndsrnxp_500-gbndrnge_600',\n",
       " 'pp-G-ngsblkxp_8.0-bndsrnxp_500-gbndrnge_700',\n",
       " 'pp-G-ngsblkxp_8.0-bndsrnxp_500-gbndrnge_300-Gterm',\n",
       " 'pp-G-ngsblkxp_8.0-bndsrnxp_500-gbndrnge_400-Gterm',\n",
       " 'pp-G-ngsblkxp_8.0-bndsrnxp_500-gbndrnge_500-Gterm',\n",
       " 'pp-G-ngsblkxp_8.0-bndsrnxp_500-gbndrnge_600-Gterm',\n",
       " 'pp-G-ngsblkxp_8.0-bndsrnxp_500-gbndrnge_700-Gterm']"
      ]
     },
     "execution_count": 97,
     "metadata": {},
     "output_type": "execute_result"
    }
   ],
   "source": [
    "study.ids"
   ]
  },
  {
   "cell_type": "code",
   "execution_count": 98,
   "metadata": {},
   "outputs": [],
   "source": [
    "#study.runs[5]"
   ]
  },
  {
   "cell_type": "code",
   "execution_count": 103,
   "metadata": {},
   "outputs": [
    {
     "name": "stdout",
     "output_type": "stream",
     "text": [
      "Run the selection [0, 1, 2, 3, 4, 5, 6, 7, 8, 9] with the parallel task_groups [[0, 1], [2, 3], [4, 5], [6, 7], [8, 9]] \n",
      "\n",
      "Run the task [0, 1] \n",
      "Skip the run ofSkip the run of  pp-G-ngsblkxp_8.0-bndsrnxp_500-gbndrnge_300pp-G-ngsblkxp_8.0-bndsrnxp_500-gbndrnge_400\n",
      "\n",
      "Task [0, 1] ended \n",
      " \n",
      "Run the task [2, 3] \n",
      "Skip the run of pp-G-ngsblkxp_8.0-bndsrnxp_500-gbndrnge_500\n",
      "Skip the run of pp-G-ngsblkxp_8.0-bndsrnxp_500-gbndrnge_600\n",
      "Task [2, 3] ended \n",
      " \n",
      "Run the task [4, 5] \n",
      "Skip the run of pp-G-ngsblkxp_8.0-bndsrnxp_500-gbndrnge_300-Gterm\n",
      "Skip the run of pp-G-ngsblkxp_8.0-bndsrnxp_500-gbndrnge_700\n",
      "Task [4, 5] ended \n",
      " \n",
      "Run the task [6, 7] \n",
      "Skip the run of pp-G-ngsblkxp_8.0-bndsrnxp_500-gbndrnge_500-Gterm\n",
      "Skip the run of pp-G-ngsblkxp_8.0-bndsrnxp_500-gbndrnge_400-Gterm\n",
      "Task [6, 7] ended \n",
      " \n",
      "Run the task [8, 9] \n",
      "Skip the run of pp-G-ngsblkxp_8.0-bndsrnxp_500-gbndrnge_600-Gterm\n",
      "Skip the run of pp-G-ngsblkxp_8.0-bndsrnxp_500-gbndrnge_700-Gterm\n",
      "Task [8, 9] ended \n",
      " \n"
     ]
    }
   ],
   "source": [
    "results = study.run()"
   ]
  },
  {
   "cell_type": "code",
   "execution_count": 106,
   "metadata": {},
   "outputs": [
    {
     "data": {
      "text/plain": [
       "([1.153888,\n",
       "  1.1519249999999999,\n",
       "  1.149286,\n",
       "  1.1480569999999999,\n",
       "  1.1468059999999998],\n",
       " [1.141799, 1.142014, 1.141872, 1.141928, 1.141921])"
      ]
     },
     "execution_count": 106,
     "metadata": {},
     "output_type": "execute_result"
    }
   ],
   "source": [
    "gap_G = [results[ind].data.get_gap(k_full=Gamma_index,band_full=start_band,verbose=False) for ind in range(len(Bands))]\n",
    "gap_G_Gterm = [results[ind+len(Bands)].data.get_gap(k_full=Gamma_index,band_full=start_band,verbose=False) for ind in range(len(Bands))]\n",
    "\n",
    "gap_G,gap_G_Gterm"
   ]
  },
  {
   "cell_type": "code",
   "execution_count": 112,
   "metadata": {},
   "outputs": [
    {
     "data": {
      "text/plain": [
       "<matplotlib.legend.Legend at 0x7f266b6ced40>"
      ]
     },
     "execution_count": 112,
     "metadata": {},
     "output_type": "execute_result"
    },
    {
     "data": {
      "image/png": "[encoded data removed]",
      "text/plain": [
       "<Figure size 1000x500 with 1 Axes>"
      ]
     },
     "metadata": {},
     "output_type": "display_data"
    }
   ],
   "source": [
    "x_vals = [x[1] for x in Bands]\n",
    "\n",
    "fig, axes = plt.subplots(figsize=(10, 5))\n",
    "axes.plot(x_vals,gap_G,label='no term')\n",
    "axes.scatter(x_vals,gap_G)\n",
    "axes.plot(x_vals,gap_G_Gterm,label='BG term')\n",
    "axes.scatter(x_vals,gap_G_Gterm)\n",
    "axes.set_title('Gap at Gamma',size=14)\n",
    "axes.set_xlabel('GbndRnge',size=14)\n",
    "axes.legend()"
   ]
  },
  {
   "cell_type": "markdown",
   "metadata": {},
   "source": [
    "On the basis of this analysis we conclude that the optimal parameters for the convergence of the screening are\n",
    "\n",
    "NGsBlkXp = 8.0 # Ha G size of the response function\n",
    "BndsRnXp = [1,500]\n",
    "GbndRnge = [1,500] with BG terminator\n",
    "\n",
    "both the bands parameters can be relaxed to the values [1,400] without affecting the convergence of the screening. "
   ]
  },
  {
   "cell_type": "markdown",
   "metadata": {},
   "source": [
    "### Convergence analysis of the k-points sampling"
   ]
  },
  {
   "cell_type": "markdown",
   "metadata": {},
   "source": [
    "We test the effect of the k-points sampling on the GW correction ast the pp level."
   ]
  },
  {
   "cell_type": "code",
   "execution_count": 160,
   "metadata": {},
   "outputs": [
    {
     "name": "stdout",
     "output_type": "stream",
     "text": [
      "Initialize a Yambo calculator with scheduler slurm\n"
     ]
    }
   ],
   "source": [
    "# RunRules for leonardo\n",
    "nodes = 4\n",
    "ntasks_per_node = 4\n",
    "cpus_per_task = 8\n",
    "omp_num_threads = 8\n",
    "gres_gpu=4\n",
    "pe=8\n",
    "module = '/leonardo/home/userexternal/mdaless1/module_script/yambo_gpu'\n",
    "\n",
    "ntasks = nodes*ntasks_per_node\n",
    "\n",
    "rr = C.RunRules(scheduler='slurm',partition='boost_usr_prod',\n",
    "                account='IscrC_ICE-SURF',\n",
    "                time='23:59:00',\n",
    "                nodes=nodes,ntasks_per_node=ntasks_per_node,\n",
    "                cpus_per_task=cpus_per_task,omp_num_threads=omp_num_threads,\n",
    "                gres_gpu=gres_gpu,omp_places='cores',omp_proc_bind='close',pe=pe,\n",
    "                map_by='socket',rank_by='core',pre_processing=module)\n",
    "code = C.YamboCalculator(rr)\n",
    "#code.global_options()"
   ]
  },
  {
   "cell_type": "code",
   "execution_count": 187,
   "metadata": {},
   "outputs": [],
   "source": [
    "ksamplings = {'10x20': {'folder':'kpoints_10x20-nbnds_800','npoints':66},\n",
    "             '15x30': {'folder':'kpoints_15x30-nbnds_600','npoints':128},\n",
    "             '20x40': {'folder':'kpoints_20x40-nbnds_600','npoints':231},\n",
    "             '25x50': {'folder':'kpoints_25x50-nbnds_600','npoints':338}\n",
    "            }"
   ]
  },
  {
   "cell_type": "code",
   "execution_count": 169,
   "metadata": {},
   "outputs": [
    {
     "name": "stdout",
     "output_type": "stream",
     "text": [
      "SAVE folder MB_analysis/kpoints_10x20-nbnds_800/SAVE already present. No operations performed.\n",
      "SAVE folder MB_analysis/kpoints_15x30-nbnds_600/SAVE already present. No operations performed.\n",
      "SAVE folder MB_analysis/kpoints_20x40-nbnds_600/SAVE already present. No operations performed.\n",
      "SAVE folder MB_analysis/kpoints_25x50-nbnds_600/SAVE already present. No operations performed.\n"
     ]
    }
   ],
   "source": [
    "for k in ksamplings:\n",
    "    input_dir=os.path.join('DFT_analysis',ksampligs[k]['folder']+'.save')\n",
    "    run_dir=os.path.join('MB_analysis',ksampligs[k]['folder'])\n",
    "    Tools.init_yambo_dir(yambo_dir=run_dir,input_dir=input_dir,p2y_command='mpirun -np 2 p2y')"
   ]
  },
  {
   "cell_type": "code",
   "execution_count": 170,
   "metadata": {},
   "outputs": [
    {
     "name": "stdout",
     "output_type": "stream",
     "text": [
      "16 1\n",
      "Initialize a Dataset with 4 parallel tasks\n"
     ]
    }
   ],
   "source": [
    "ntasks_c = 16 #16\n",
    "ntasks_v = int(ntasks/ntasks_c)\n",
    "print(ntasks_c,ntasks_v)\n",
    "\n",
    "start_band,stop_band = 25,26\n",
    "Gamma_index = 1\n",
    "RandGvec = 100\n",
    "RandGvecW = 10\n",
    "Randqpts = 5e6\n",
    "\n",
    "EXXRLVcs_units = 'Ha'\n",
    "EXXRLvcs = 40. # Ha\n",
    "NGsBlkXp = 6.0 # Ha G size of the response function\n",
    "NGsBlkXp_units = 'Ha'\n",
    "BndsRnXp = [1,400]\n",
    "GbndRnge  = [1,400] # Bands in the G function\n",
    "\n",
    "study = D.Dataset(num_tasks=4,verbose=True)\n",
    "study.set_postprocessing_function(PP.yambo_parse_data)\n",
    "\n",
    "for k in ksampligs:\n",
    "    run_dir=os.path.join('MB_analysis',ksamplings[k]['folder'])\n",
    "    inp = I.YamboInput(args='yambo -r -rw -k hartee -dyson n -gw0 p -V all',folder=run_dir)\n",
    "    inp.set_extendOut()\n",
    "    inp.set_array_variables(units=EXXRLVcs_units,EXXRLvcs=EXXRLvcs) \n",
    "    inp.set_bandRange(start_band,stop_band)\n",
    "    inp.set_scalar_variables(CUTGeo='slab z')\n",
    "    inp.set_array_variables(RandQpts=Randqpts)\n",
    "    inp.set_array_variables(units='RL',RandGvec=RandGvec,RandGvecW=RandGvecW)\n",
    "    inp.set_scalar_variables(SE_ROLEs='q.qp.b',SE_CPU='1.1.16') # for 4 nodes on leonardo\n",
    "    inp.set_scalar_variables(X_and_IO_ROLEs='q.g.k.c.v',X_and_IO_CPU='1.1.1.%s.%s'%(ntasks_c,ntasks_v))\n",
    "    inp.set_scalar_variables(DIP_ROLEs='k.c.v',DIP_CPU='1.%s.%s'%(ntasks_c,ntasks_v))\n",
    "    inp.set_array_variables(units=NGsBlkXp_units,NGsBlkXp=NGsBlkXp)\n",
    "    inp.set_array_variables(BndsRnXp=BndsRnXp,GbndRnge=GbndRnge)\n",
    "    inp.set_scalar_variables(GTermKind='BG')\n",
    "    # append run at G\n",
    "    #idd = 'pp-G-ngsblkxp_%s-bndsrnxp_%s-gbndrnge_%s-Gterm'%(NGsBlkXp,BndsRnXp[1],GbndRnge[1])\n",
    "    idd = 'pp-G-kpoints_%s'%k\n",
    "    inp.set_kRange(Gamma_index,Gamma_index)\n",
    "    study.append_run(id=idd,input=inp,runner=code,run_dir=run_dir,\n",
    "            jobname=[idd,'ndbs','ndb_pp-ngsblkxp_%s-bndsrnxp_%s'%(NGsBlkXp,BndsRnXp[1])],reformat=False)\n"
   ]
  },
  {
   "cell_type": "code",
   "execution_count": 171,
   "metadata": {},
   "outputs": [
    {
     "data": {
      "text/plain": [
       "['pp-G-kpoints_10x20',\n",
       " 'pp-G-kpoints_15x30',\n",
       " 'pp-G-kpoints_20x40',\n",
       " 'pp-G-kpoints_25x50']"
      ]
     },
     "execution_count": 171,
     "metadata": {},
     "output_type": "execute_result"
    }
   ],
   "source": [
    "study.ids"
   ]
  },
  {
   "cell_type": "code",
   "execution_count": 140,
   "metadata": {},
   "outputs": [],
   "source": [
    "#study.runs[2]"
   ]
  },
  {
   "cell_type": "code",
   "execution_count": 172,
   "metadata": {},
   "outputs": [
    {
     "name": "stdout",
     "output_type": "stream",
     "text": [
      "Run the selection [0, 1, 2, 3] with the parallel task_groups [[0, 1, 2, 3]] \n",
      "\n",
      "Run the task [0, 1, 2, 3] \n",
      "Skip the run ofSkip the run of  pp-G-kpoints_10x20pp-G-kpoints_15x30\n",
      "\n",
      "Skip the run of pp-G-kpoints_25x50\n",
      "Skip the run of pp-G-kpoints_20x40\n",
      "Task [0, 1, 2, 3] ended \n",
      " \n"
     ]
    }
   ],
   "source": [
    "results = study.run()"
   ]
  },
  {
   "cell_type": "code",
   "execution_count": 174,
   "metadata": {},
   "outputs": [
    {
     "data": {
      "text/plain": [
       "[1.1415469999999999, 1.04211, 0.994708, 0.969077]"
      ]
     },
     "execution_count": 174,
     "metadata": {},
     "output_type": "execute_result"
    }
   ],
   "source": [
    "gap_G = [results[ind].data.get_gap(k_full=Gamma_index,band_full=start_band,verbose=False) for ind in range(len(ksamplings.keys()))]\n",
    "gap_G"
   ]
  },
  {
   "cell_type": "code",
   "execution_count": 175,
   "metadata": {},
   "outputs": [
    {
     "data": {
      "text/plain": [
       "[66, 128, 231, 338]"
      ]
     },
     "execution_count": 175,
     "metadata": {},
     "output_type": "execute_result"
    }
   ],
   "source": [
    "x_vals = [ksamplings[k]['npoints'] for k in ksamplings]\n",
    "x_vals"
   ]
  },
  {
   "cell_type": "code",
   "execution_count": 176,
   "metadata": {},
   "outputs": [
    {
     "data": {
      "text/plain": [
       "Text(0.5, 0, 'number of kpoints')"
      ]
     },
     "execution_count": 176,
     "metadata": {},
     "output_type": "execute_result"
    },
    {
     "data": {
      "image/png": "[encoded data removed]",
      "text/plain": [
       "<Figure size 900x400 with 1 Axes>"
      ]
     },
     "metadata": {},
     "output_type": "display_data"
    }
   ],
   "source": [
    "fig, axes = plt.subplots(figsize=(9, 4))\n",
    "axes.plot(x_vals,gap_G)\n",
    "axes.scatter(x_vals,gap_G)\n",
    "axes.set_title('Gap at Gamma',size=14)\n",
    "axes.set_xlabel('number of kpoints',size=14)"
   ]
  },
  {
   "cell_type": "markdown",
   "metadata": {},
   "source": [
    "Computation with improved parameters to check convergence "
   ]
  },
  {
   "cell_type": "code",
   "execution_count": 177,
   "metadata": {},
   "outputs": [
    {
     "name": "stdout",
     "output_type": "stream",
     "text": [
      "16 1\n",
      "Initialize a Dataset with 1 parallel tasks\n"
     ]
    }
   ],
   "source": [
    "ntasks_c = 16 #16\n",
    "ntasks_v = int(ntasks/ntasks_c)\n",
    "print(ntasks_c,ntasks_v)\n",
    "\n",
    "start_band,stop_band = 25,26\n",
    "Gamma_index = 1\n",
    "RandGvec = 100\n",
    "RandGvecW = 10\n",
    "Randqpts = 5e6\n",
    "\n",
    "EXXRLVcs_units = 'Ha'\n",
    "EXXRLvcs = 40. # Ha\n",
    "NGsBlkXp = 8.0 # Ha G size of the response function\n",
    "NGsBlkXp_units = 'Ha'\n",
    "BndsRnXp = [1,600]\n",
    "GbndRnge  = [1,400] # Bands in the G function\n",
    "\n",
    "study = D.Dataset(num_tasks=1,verbose=True)\n",
    "study.set_postprocessing_function(PP.yambo_parse_data)\n",
    "\n",
    "run_dir=os.path.join('MB_analysis',ksamplings['20x40']['folder'])\n",
    "inp = I.YamboInput(args='yambo -r -rw -k hartee -dyson n -gw0 p -V all',folder=run_dir)\n",
    "inp.set_extendOut()\n",
    "inp.set_array_variables(units=EXXRLVcs_units,EXXRLvcs=EXXRLvcs) \n",
    "inp.set_bandRange(start_band,stop_band)\n",
    "inp.set_scalar_variables(CUTGeo='slab z')\n",
    "inp.set_array_variables(RandQpts=Randqpts)\n",
    "inp.set_array_variables(units='RL',RandGvec=RandGvec,RandGvecW=RandGvecW)\n",
    "inp.set_scalar_variables(SE_ROLEs='q.qp.b',SE_CPU='1.1.16') # for 4 nodes on leonardo\n",
    "inp.set_scalar_variables(X_and_IO_ROLEs='q.g.k.c.v',X_and_IO_CPU='1.1.1.%s.%s'%(ntasks_c,ntasks_v))\n",
    "inp.set_scalar_variables(DIP_ROLEs='k.c.v',DIP_CPU='1.%s.%s'%(ntasks_c,ntasks_v))\n",
    "inp.set_array_variables(units=NGsBlkXp_units,NGsBlkXp=NGsBlkXp)\n",
    "inp.set_array_variables(BndsRnXp=BndsRnXp,GbndRnge=GbndRnge)\n",
    "inp.set_scalar_variables(GTermKind='BG')\n",
    "# append run at G\n",
    "idd = 'pp-G-ngsblkxp_%s-bndsrnxp_%s-gbndrnge_%s-Gterm'%(NGsBlkXp,BndsRnXp[1],GbndRnge[1])\n",
    "#idd = 'pp-G-kpoints_%s'%k\n",
    "inp.set_kRange(Gamma_index,Gamma_index)\n",
    "study.append_run(id=idd,input=inp,runner=code,run_dir=run_dir,\n",
    "jobname=[idd,'ndbs','ndb_pp-ngsblkxp_%s-bndsrnxp_%s'%(NGsBlkXp,BndsRnXp[1])],reformat=False)\n"
   ]
  },
  {
   "cell_type": "code",
   "execution_count": 182,
   "metadata": {},
   "outputs": [
    {
     "data": {
      "text/plain": [
       "['pp-G-ngsblkxp_8.0-bndsrnxp_600-gbndrnge_400-Gterm']"
      ]
     },
     "execution_count": 182,
     "metadata": {},
     "output_type": "execute_result"
    }
   ],
   "source": [
    "study.ids"
   ]
  },
  {
   "cell_type": "code",
   "execution_count": 183,
   "metadata": {},
   "outputs": [],
   "source": [
    "#study.runs[0]"
   ]
  },
  {
   "cell_type": "code",
   "execution_count": 184,
   "metadata": {},
   "outputs": [
    {
     "name": "stdout",
     "output_type": "stream",
     "text": [
      "Run the selection [0] with the parallel task_groups [[0]] \n",
      "\n",
      "Run the task [0] \n",
      "Skip the run of pp-G-ngsblkxp_8.0-bndsrnxp_600-gbndrnge_400-Gterm\n",
      "Task [0] ended \n",
      " \n"
     ]
    }
   ],
   "source": [
    "results = study.run()"
   ]
  },
  {
   "cell_type": "code",
   "execution_count": 188,
   "metadata": {},
   "outputs": [
    {
     "data": {
      "text/plain": [
       "0.994043"
      ]
     },
     "execution_count": 188,
     "metadata": {},
     "output_type": "execute_result"
    }
   ],
   "source": [
    "gap_G_k20x40_imp = results[0].data.get_gap(k_full=Gamma_index,band_full=start_band,verbose=False)\n",
    "gap_G_k20x40_imp"
   ]
  },
  {
   "cell_type": "code",
   "execution_count": 189,
   "metadata": {},
   "outputs": [
    {
     "data": {
      "text/plain": [
       "Text(0.5, 0, 'number of kpoints')"
      ]
     },
     "execution_count": 189,
     "metadata": {},
     "output_type": "execute_result"
    },
    {
     "data": {
      "image/png": "[encoded data removed]",
      "text/plain": [
       "<Figure size 900x400 with 1 Axes>"
      ]
     },
     "metadata": {},
     "output_type": "display_data"
    }
   ],
   "source": [
    "fig, axes = plt.subplots(figsize=(9, 4))\n",
    "axes.plot(x_vals,gap_G)\n",
    "axes.scatter(x_vals,gap_G)\n",
    "axes.scatter(ksamplings['20x40']['npoints'],gap_G_k20x40_imp)\n",
    "axes.set_title('Gap at Gamma',size=14)\n",
    "axes.set_xlabel('number of kpoints',size=14)"
   ]
  },
  {
   "cell_type": "markdown",
   "metadata": {},
   "source": [
    "We observe that the for the chosen values of NGsBlkXp = 6.0 and BndsRnXp = [1,400] the screening is converged.\n",
    "\n",
    "The best estimate of the gap at $\\Gamma$ with the actual k-points sampling is of 969 meV.\n",
    "This value can be improved by increasing the numbers of k-points, the actual error can be estimated in the order of 10 meV.\n",
    "\n"
   ]
  },
  {
   "cell_type": "markdown",
   "metadata": {},
   "source": [
    "### Quasi-particle band structure\n",
    "\n",
    "We use the convergence test performed above to computed the GW correction in the whole BZ. In this way we can compute the quasi-particle correction of the band structure.\n"
   ]
  },
  {
   "cell_type": "code",
   "execution_count": 15,
   "metadata": {},
   "outputs": [
    {
     "name": "stdout",
     "output_type": "stream",
     "text": [
      "Initialize a Yambo calculator with scheduler slurm\n"
     ]
    }
   ],
   "source": [
    "# RunRules for leonardo\n",
    "nodes = 8\n",
    "ntasks_per_node = 4\n",
    "cpus_per_task = 8\n",
    "omp_num_threads = 8\n",
    "gres_gpu=4\n",
    "pe=8\n",
    "module = '/leonardo/home/userexternal/mdaless1/module_script/yambo_gpu'\n",
    "\n",
    "ntasks = nodes*ntasks_per_node\n",
    "\n",
    "rr = C.RunRules(scheduler='slurm',partition='boost_usr_prod',\n",
    "                account='IscrC_ICE-SURF',\n",
    "                time='23:59:00',\n",
    "                nodes=nodes,ntasks_per_node=ntasks_per_node,\n",
    "                cpus_per_task=cpus_per_task,omp_num_threads=omp_num_threads,\n",
    "                gres_gpu=gres_gpu,omp_places='cores',omp_proc_bind='close',pe=pe,\n",
    "                map_by='socket',rank_by='core',pre_processing=module)\n",
    "code = C.YamboCalculator(rr)\n",
    "#code.global_options()"
   ]
  },
  {
   "cell_type": "code",
   "execution_count": 3,
   "metadata": {},
   "outputs": [],
   "source": [
    "ksamplings = {'10x20': {'folder':'kpoints_10x20-nbnds_800','npoints':66},\n",
    "             '15x30': {'folder':'kpoints_15x30-nbnds_600','npoints':128},\n",
    "             '20x40': {'folder':'kpoints_20x40-nbnds_600','npoints':231},\n",
    "             '25x50': {'folder':'kpoints_25x50-nbnds_600','npoints':338}\n",
    "            }"
   ]
  },
  {
   "cell_type": "code",
   "execution_count": 17,
   "metadata": {},
   "outputs": [
    {
     "name": "stdout",
     "output_type": "stream",
     "text": [
      "16 2\n",
      "Initialize a Dataset with 1 parallel tasks\n"
     ]
    }
   ],
   "source": [
    "ntasks_c = 16\n",
    "ntasks_v = int(ntasks/ntasks_c)\n",
    "print(ntasks_c,ntasks_v)\n",
    "\n",
    "start_band,stop_band = 24,27\n",
    "Gamma_index = 1\n",
    "RandGvec = 100\n",
    "RandGvecW = 10\n",
    "Randqpts = 5e6\n",
    "\n",
    "kpoints = '20x40'\n",
    "\n",
    "EXXRLVcs_units = 'Ha'\n",
    "EXXRLvcs = 40. # Ha\n",
    "NGsBlkXp = 6.0 # Ha G size of the response function\n",
    "NGsBlkXp_units = 'Ha'\n",
    "BndsRnXp = [1,400]\n",
    "GbndRnge  = [1,400] # Bands in the G function\n",
    "\n",
    "study = D.Dataset(num_tasks=1,verbose=True)\n",
    "study.set_postprocessing_function(PP.yambo_parse_data)\n",
    "\n",
    "run_dir=os.path.join('MB_analysis',ksamplings[kpoints]['folder'])\n",
    "inp = I.YamboInput(args='yambo -r -rw -k hartee -dyson n -gw0 p -V all',folder=run_dir)\n",
    "inp.set_extendOut()\n",
    "inp.set_array_variables(units=EXXRLVcs_units,EXXRLvcs=EXXRLvcs) \n",
    "inp.set_bandRange(start_band,stop_band)\n",
    "inp.set_scalar_variables(CUTGeo='slab z')\n",
    "inp.set_array_variables(RandQpts=Randqpts)\n",
    "inp.set_array_variables(units='RL',RandGvec=RandGvec,RandGvecW=RandGvecW)\n",
    "#inp.set_scalar_variables(SE_ROLEs='q.qp.b',SE_CPU='1.1.16') # for 4 nodes on leonardo\n",
    "inp.set_scalar_variables(SE_ROLEs='q.qp.b',SE_CPU='1.2.16') # for 8 nodes on leonardo\n",
    "inp.set_scalar_variables(X_and_IO_ROLEs='q.g.k.c.v',X_and_IO_CPU='1.1.1.%s.%s'%(ntasks_c,ntasks_v))\n",
    "inp.set_scalar_variables(DIP_ROLEs='k.c.v',DIP_CPU='1.%s.%s'%(ntasks_c,ntasks_v))\n",
    "inp.set_array_variables(units=NGsBlkXp_units,NGsBlkXp=NGsBlkXp)\n",
    "inp.set_array_variables(BndsRnXp=BndsRnXp,GbndRnge=GbndRnge)\n",
    "inp.set_scalar_variables(GTermKind='BG')\n",
    "# append run for the QP correction in the whole BZ\n",
    "idd = 'pp-allBZ-ngsblkxp_%s-bndsrnxp_%s-gbndrnge_%s-Gterm'%(NGsBlkXp,BndsRnXp[1],GbndRnge[1])\n",
    "study.append_run(id=idd,input=inp,runner=code,run_dir=run_dir,\n",
    "jobname=[idd,'ndbs','ndb_pp-ngsblkxp_%s-bndsrnxp_%s'%(NGsBlkXp,BndsRnXp[1])],reformat=False)"
   ]
  },
  {
   "cell_type": "code",
   "execution_count": 19,
   "metadata": {},
   "outputs": [],
   "source": [
    "#study.runs[0]"
   ]
  },
  {
   "cell_type": "code",
   "execution_count": 20,
   "metadata": {},
   "outputs": [
    {
     "name": "stdout",
     "output_type": "stream",
     "text": [
      "Run the selection [0] with the parallel task_groups [[0]] \n",
      "\n",
      "Run the task [0] \n",
      "delete job_out script: MB_analysis/kpoints_20x40-nbnds_600/job_pp-allBZ-ngsblkxp_6.0-bndsrnxp_400-gbndrnge_400-Gterm.out\n",
      "delete folder: MB_analysis/kpoints_20x40-nbnds_600/pp-allBZ-ngsblkxp_6.0-bndsrnxp_400-gbndrnge_400-Gterm\n",
      "run command: mpirun -np 32 --map-by socket:PE=8 --rank-by core yambo -F pp-allBZ-ngsblkxp_6.0-bndsrnxp_400-gbndrnge_400-Gterm.in -J \"pp-allBZ-ngsblkxp_6.0-bndsrnxp_400-gbndrnge_400-Gterm,ndbs,ndb_pp-ngsblkxp_6.0-bndsrnxp_400\" -C pp-allBZ-ngsblkxp_6.0-bndsrnxp_400-gbndrnge_400-Gterm\n",
      "slurm submit:  cd MB_analysis/kpoints_20x40-nbnds_600 ; sbatch job_pp-allBZ-ngsblkxp_6.0-bndsrnxp_400-gbndrnge_400-Gterm.sh\n",
      "computation pp-allBZ-ngsblkxp_6.0-bndsrnxp_400-gbndrnge_400-Gterm is running...\n",
      "computation pp-allBZ-ngsblkxp_6.0-bndsrnxp_400-gbndrnge_400-Gterm ended\n",
      "Run performed in 16h-36m\n",
      "Task [0] ended \n",
      " \n"
     ]
    }
   ],
   "source": [
    "results = study.run()"
   ]
  },
  {
   "cell_type": "markdown",
   "metadata": {},
   "source": [
    "#### Ypp Analysis"
   ]
  },
  {
   "cell_type": "markdown",
   "metadata": {},
   "source": [
    "We compute the GW correction along a hygh-simmetry path by interpolating the result of the BZ grid "
   ]
  },
  {
   "cell_type": "code",
   "execution_count": 4,
   "metadata": {},
   "outputs": [
    {
     "name": "stdout",
     "output_type": "stream",
     "text": [
      "Initialize a Yambo calculator with scheduler slurm\n"
     ]
    }
   ],
   "source": [
    "# RunRules for leonardo\n",
    "nodes = 1\n",
    "ntasks_per_node = 4\n",
    "cpus_per_task = 8\n",
    "omp_num_threads = 8\n",
    "gres_gpu=4\n",
    "pe=8\n",
    "module = '/leonardo/home/userexternal/mdaless1/module_script/yambo_gpu'\n",
    "\n",
    "ntasks = nodes*ntasks_per_node\n",
    "\n",
    "rr = C.RunRules(scheduler='slurm',partition='boost_usr_prod',\n",
    "                account='IscrC_ICE-SURF',\n",
    "                time='23:59:00',\n",
    "                nodes=nodes,ntasks_per_node=ntasks_per_node,\n",
    "                cpus_per_task=cpus_per_task,omp_num_threads=omp_num_threads,\n",
    "                gres_gpu=gres_gpu,omp_places='cores',omp_proc_bind='close',pe=pe,\n",
    "                map_by='socket',rank_by='core',pre_processing=module)\n",
    "code = C.YamboCalculator(rr,executable='ypp')\n",
    "#code.global_options()"
   ]
  },
  {
   "cell_type": "code",
   "execution_count": 5,
   "metadata": {},
   "outputs": [],
   "source": [
    "ndbQP = 'pp-allBZ-ngsblkxp_6.0-bndsrnxp_400-gbndrnge_400-Gterm/ndb.QP'"
   ]
  },
  {
   "cell_type": "code",
   "execution_count": 8,
   "metadata": {},
   "outputs": [
    {
     "name": "stdout",
     "output_type": "stream",
     "text": [
      "Initialize a Dataset with 2 parallel tasks\n"
     ]
    }
   ],
   "source": [
    "kpoints = '20x40'\n",
    "run_dir=os.path.join('MB_analysis',ksamplings[kpoints]['folder'])\n",
    "start_band,stop_band = 24,27\n",
    "bands_step = 50\n",
    "\n",
    "# cryst  coords\n",
    "G_cryst = [0.0,0.0,0.0]\n",
    "M2_cryst = [0.0,0.5,0.0]\n",
    "K_cryst = [0.5,0.5,0.0]\n",
    "M_cryst = [0.5,0.0,0.0]\n",
    "high_sym = {'G':G_cryst,'K':K_cryst,'M':M_cryst,'M2':M2_cryst} # useful to label the high-sym point on the path\n",
    "path = [G_cryst,M2_cryst,K_cryst,M_cryst,G_cryst,K_cryst]\n",
    "\n",
    "study = D.Dataset(run_dir=run_dir,num_tasks=2,verbose=True)\n",
    "\n",
    "#inp = I.YamboInput(args='ypp -e s',folder=run_dir,filename='ypp.in')\n",
    "inp = I.YamboInput(folder=run_dir,filename='ypp.in')\n",
    "inp.set_array_variables(BANDS_bands=[start_band,stop_band],BANDS_steps=bands_step,BANDS_kpts=path)\n",
    "inp.set_scalar_variables(cooIn='rlu',cooOut='rlu')\n",
    "\n",
    "idd = 'ypp_bands_dft'\n",
    "inp['variables']['INTERP_mode'] = 'BOLTZ'\n",
    "inp['variables']['INTERP_Shell_Fac'] = [30,'']\n",
    "inp['variables']['GfnQP_DbGd_INTERP_mode'] = 'BOLTZ'\n",
    "inp['variables']['GfnQP_INTERP_shells'] = [30,'']\n",
    "study.append_run(id=idd,input=inp,runner=code) \n",
    "\n",
    "idd = 'ypp_bands_gw'\n",
    "inp['variables']['INTERP_mode'] = 'BOLTZ'\n",
    "inp['variables']['INTERP_Shell_Fac'] = [30,'']\n",
    "inp['variables']['GfnQP_DbGd_INTERP_mode'] = 'BOLTZ'\n",
    "inp['variables']['GfnQP_INTERP_shells'] = [30,'']\n",
    "inp['variables']['GfnQPdb']= 'E < %s'%ndbQP\n",
    "study.append_run(id=idd,input=inp,runner=code)"
   ]
  },
  {
   "cell_type": "code",
   "execution_count": 9,
   "metadata": {},
   "outputs": [
    {
     "data": {
      "text/plain": [
       "['ypp_bands_dft', 'ypp_bands_gw']"
      ]
     },
     "execution_count": 9,
     "metadata": {},
     "output_type": "execute_result"
    }
   ],
   "source": [
    "study.ids"
   ]
  },
  {
   "cell_type": "code",
   "execution_count": 28,
   "metadata": {},
   "outputs": [],
   "source": [
    "#study.runs[1]"
   ]
  },
  {
   "cell_type": "code",
   "execution_count": 14,
   "metadata": {},
   "outputs": [
    {
     "name": "stdout",
     "output_type": "stream",
     "text": [
      "Run the selection [0, 1] with the parallel task_groups [[0, 1]] \n",
      "\n",
      "Run the task [0, 1] \n",
      "Skip the run of ypp_bands_gw\n",
      "Skip the run of ypp_bands_dft\n",
      "Task [0, 1] ended \n",
      " \n"
     ]
    }
   ],
   "source": [
    "results = study.run()"
   ]
  },
  {
   "cell_type": "code",
   "execution_count": 15,
   "metadata": {},
   "outputs": [],
   "source": [
    "bands_gw = U.BandStructure.from_Ypp(results[1],high_sym,suffix='bands_interpolated')\n",
    "bands_dft = U.BandStructure.from_Ypp(results[0],high_sym,suffix='bands_interpolated')"
   ]
  },
  {
   "cell_type": "code",
   "execution_count": 38,
   "metadata": {},
   "outputs": [
    {
     "data": {
      "image/png": "[encoded data removed]",
      "text/plain": [
       "<Figure size 1000x800 with 1 Axes>"
      ]
     },
     "metadata": {},
     "output_type": "display_data"
    }
   ],
   "source": [
    "fig, ax1 = plt.subplots(figsize=(10,8))\n",
    "bands_dft.plot(plt,axes=ax1,selection=[0],linestyle='-',label='dft',c='firebrick')\n",
    "bands_dft.plot(plt,axes=ax1,selection=[1,2,3],linestyle='-',c='firebrick')\n",
    "bands_gw.plot(plt,axes=ax1,selection=[0],linestyle='-',label='gw',c='black')\n",
    "bands_gw.plot(plt,axes=ax1,selection=[1,2,3],linestyle='-',c='black')\n",
    "ax1.hlines(0.,0.,2.707,linestyles='-',color='gray')\n",
    "ax1.set_ylim(-4.5,5.5)\n",
    "ax1.set_ylabel('Energy (eV)',size=16)\n",
    "ax1.set_title('AGSL5 GW bands ',size=16)\n",
    "ax1.legend(loc=(0.56,0.84),fontsize=16,frameon=True)\n",
    "ax1.tick_params(axis='both', which='major', labelsize=16)"
   ]
  },
  {
   "cell_type": "code",
   "execution_count": null,
   "metadata": {},
   "outputs": [],
   "source": []
  },
  {
   "cell_type": "code",
   "execution_count": null,
   "metadata": {},
   "outputs": [],
   "source": []
  },
  {
   "cell_type": "code",
   "execution_count": null,
   "metadata": {},
   "outputs": [],
   "source": []
  }
 ],
 "metadata": {
  "kernelspec": {
   "display_name": "Python 3 (ipykernel)",
   "language": "python",
   "name": "python3"
  },
  "language_info": {
   "codemirror_mode": {
    "name": "ipython",
    "version": 3
   },
   "file_extension": ".py",
   "mimetype": "text/x-python",
   "name": "python",
   "nbconvert_exporter": "python",
   "pygments_lexer": "ipython3",
   "version": "3.10.8"
  }
 },
 "nbformat": 4,
 "nbformat_minor": 4
}
